{
  "nbformat": 4,
  "nbformat_minor": 0,
  "metadata": {
    "colab": {
      "name": "capstone.ipynb",
      "provenance": [],
      "collapsed_sections": [],
      "toc_visible": true
    },
    "kernelspec": {
      "display_name": "Python 3",
      "name": "python3"
    }
  },
  "cells": [
    {
      "cell_type": "code",
      "metadata": {
        "id": "OHFsOOrbGPpc"
      },
      "source": [
        ""
      ],
      "execution_count": null,
      "outputs": []
    },
    {
      "cell_type": "markdown",
      "metadata": {
        "id": "UMMnbitlGc3A"
      },
      "source": [
        "# New Section"
      ]
    },
    {
      "cell_type": "code",
      "metadata": {
        "id": "4l4CXz3MGdwD"
      },
      "source": [
        ""
      ],
      "execution_count": null,
      "outputs": []
    },
    {
      "cell_type": "code",
      "metadata": {
        "id": "BzYcCGrFGpTS"
      },
      "source": [
        "import numpy as np\n",
        "import pandas as pd\n",
        "\n",
        "import matplotlib.pyplot as plt\n",
        "%matplotlib inline\n",
        "import seaborn as sns\n",
        "\n",
        "from sklearn import metrics\n",
        "from sklearn import preprocessing\n",
        "\n",
        "# Classifier Libraries\n",
        "from sklearn.linear_model import LogisticRegression\n",
        "from sklearn.svm import SVC\n",
        "from sklearn.neighbors import KNeighborsClassifier\n",
        "from sklearn.tree import DecisionTreeClassifier\n",
        "from sklearn.ensemble import RandomForestClassifier\n",
        "import collections\n",
        "\n",
        "\n",
        "# Other Libraries\n",
        "from sklearn.model_selection import train_test_split\n",
        "from sklearn.pipeline import make_pipeline\n",
        "from imblearn.pipeline import make_pipeline as imbalanced_make_pipeline\n",
        "from imblearn.over_sampling import SMOTE\n",
        "from imblearn.under_sampling import NearMiss\n",
        "from imblearn.metrics import classification_report_imbalanced\n",
        "from sklearn.metrics import precision_score, recall_score, f1_score, roc_auc_score, accuracy_score, classification_report\n",
        "from collections import Counter\n",
        "from sklearn.model_selection import KFold, StratifiedKFold\n",
        "import warnings\n",
        "warnings.filterwarnings(\"ignore\")\n"
      ],
      "execution_count": 1,
      "outputs": []
    },
    {
      "cell_type": "code",
      "metadata": {
        "id": "C0AJskZAG5TB",
        "outputId": "7454b2e1-01c0-4f85-ce92-1faea1780b88",
        "colab": {
          "base_uri": "https://localhost:8080/",
          "height": 224
        }
      },
      "source": [
        "df = pd.read_csv('creditcard.csv')\n",
        "df.head()"
      ],
      "execution_count": 2,
      "outputs": [
        {
          "output_type": "execute_result",
          "data": {
            "text/html": [
              "<div>\n",
              "<style scoped>\n",
              "    .dataframe tbody tr th:only-of-type {\n",
              "        vertical-align: middle;\n",
              "    }\n",
              "\n",
              "    .dataframe tbody tr th {\n",
              "        vertical-align: top;\n",
              "    }\n",
              "\n",
              "    .dataframe thead th {\n",
              "        text-align: right;\n",
              "    }\n",
              "</style>\n",
              "<table border=\"1\" class=\"dataframe\">\n",
              "  <thead>\n",
              "    <tr style=\"text-align: right;\">\n",
              "      <th></th>\n",
              "      <th>Time</th>\n",
              "      <th>V1</th>\n",
              "      <th>V2</th>\n",
              "      <th>V3</th>\n",
              "      <th>V4</th>\n",
              "      <th>V5</th>\n",
              "      <th>V6</th>\n",
              "      <th>V7</th>\n",
              "      <th>V8</th>\n",
              "      <th>V9</th>\n",
              "      <th>V10</th>\n",
              "      <th>V11</th>\n",
              "      <th>V12</th>\n",
              "      <th>V13</th>\n",
              "      <th>V14</th>\n",
              "      <th>V15</th>\n",
              "      <th>V16</th>\n",
              "      <th>V17</th>\n",
              "      <th>V18</th>\n",
              "      <th>V19</th>\n",
              "      <th>V20</th>\n",
              "      <th>V21</th>\n",
              "      <th>V22</th>\n",
              "      <th>V23</th>\n",
              "      <th>V24</th>\n",
              "      <th>V25</th>\n",
              "      <th>V26</th>\n",
              "      <th>V27</th>\n",
              "      <th>V28</th>\n",
              "      <th>Amount</th>\n",
              "      <th>Class</th>\n",
              "    </tr>\n",
              "  </thead>\n",
              "  <tbody>\n",
              "    <tr>\n",
              "      <th>0</th>\n",
              "      <td>0.0</td>\n",
              "      <td>-1.359807</td>\n",
              "      <td>-0.072781</td>\n",
              "      <td>2.536347</td>\n",
              "      <td>1.378155</td>\n",
              "      <td>-0.338321</td>\n",
              "      <td>0.462388</td>\n",
              "      <td>0.239599</td>\n",
              "      <td>0.098698</td>\n",
              "      <td>0.363787</td>\n",
              "      <td>0.090794</td>\n",
              "      <td>-0.551600</td>\n",
              "      <td>-0.617801</td>\n",
              "      <td>-0.991390</td>\n",
              "      <td>-0.311169</td>\n",
              "      <td>1.468177</td>\n",
              "      <td>-0.470401</td>\n",
              "      <td>0.207971</td>\n",
              "      <td>0.025791</td>\n",
              "      <td>0.403993</td>\n",
              "      <td>0.251412</td>\n",
              "      <td>-0.018307</td>\n",
              "      <td>0.277838</td>\n",
              "      <td>-0.110474</td>\n",
              "      <td>0.066928</td>\n",
              "      <td>0.128539</td>\n",
              "      <td>-0.189115</td>\n",
              "      <td>0.133558</td>\n",
              "      <td>-0.021053</td>\n",
              "      <td>149.62</td>\n",
              "      <td>0</td>\n",
              "    </tr>\n",
              "    <tr>\n",
              "      <th>1</th>\n",
              "      <td>0.0</td>\n",
              "      <td>1.191857</td>\n",
              "      <td>0.266151</td>\n",
              "      <td>0.166480</td>\n",
              "      <td>0.448154</td>\n",
              "      <td>0.060018</td>\n",
              "      <td>-0.082361</td>\n",
              "      <td>-0.078803</td>\n",
              "      <td>0.085102</td>\n",
              "      <td>-0.255425</td>\n",
              "      <td>-0.166974</td>\n",
              "      <td>1.612727</td>\n",
              "      <td>1.065235</td>\n",
              "      <td>0.489095</td>\n",
              "      <td>-0.143772</td>\n",
              "      <td>0.635558</td>\n",
              "      <td>0.463917</td>\n",
              "      <td>-0.114805</td>\n",
              "      <td>-0.183361</td>\n",
              "      <td>-0.145783</td>\n",
              "      <td>-0.069083</td>\n",
              "      <td>-0.225775</td>\n",
              "      <td>-0.638672</td>\n",
              "      <td>0.101288</td>\n",
              "      <td>-0.339846</td>\n",
              "      <td>0.167170</td>\n",
              "      <td>0.125895</td>\n",
              "      <td>-0.008983</td>\n",
              "      <td>0.014724</td>\n",
              "      <td>2.69</td>\n",
              "      <td>0</td>\n",
              "    </tr>\n",
              "    <tr>\n",
              "      <th>2</th>\n",
              "      <td>1.0</td>\n",
              "      <td>-1.358354</td>\n",
              "      <td>-1.340163</td>\n",
              "      <td>1.773209</td>\n",
              "      <td>0.379780</td>\n",
              "      <td>-0.503198</td>\n",
              "      <td>1.800499</td>\n",
              "      <td>0.791461</td>\n",
              "      <td>0.247676</td>\n",
              "      <td>-1.514654</td>\n",
              "      <td>0.207643</td>\n",
              "      <td>0.624501</td>\n",
              "      <td>0.066084</td>\n",
              "      <td>0.717293</td>\n",
              "      <td>-0.165946</td>\n",
              "      <td>2.345865</td>\n",
              "      <td>-2.890083</td>\n",
              "      <td>1.109969</td>\n",
              "      <td>-0.121359</td>\n",
              "      <td>-2.261857</td>\n",
              "      <td>0.524980</td>\n",
              "      <td>0.247998</td>\n",
              "      <td>0.771679</td>\n",
              "      <td>0.909412</td>\n",
              "      <td>-0.689281</td>\n",
              "      <td>-0.327642</td>\n",
              "      <td>-0.139097</td>\n",
              "      <td>-0.055353</td>\n",
              "      <td>-0.059752</td>\n",
              "      <td>378.66</td>\n",
              "      <td>0</td>\n",
              "    </tr>\n",
              "    <tr>\n",
              "      <th>3</th>\n",
              "      <td>1.0</td>\n",
              "      <td>-0.966272</td>\n",
              "      <td>-0.185226</td>\n",
              "      <td>1.792993</td>\n",
              "      <td>-0.863291</td>\n",
              "      <td>-0.010309</td>\n",
              "      <td>1.247203</td>\n",
              "      <td>0.237609</td>\n",
              "      <td>0.377436</td>\n",
              "      <td>-1.387024</td>\n",
              "      <td>-0.054952</td>\n",
              "      <td>-0.226487</td>\n",
              "      <td>0.178228</td>\n",
              "      <td>0.507757</td>\n",
              "      <td>-0.287924</td>\n",
              "      <td>-0.631418</td>\n",
              "      <td>-1.059647</td>\n",
              "      <td>-0.684093</td>\n",
              "      <td>1.965775</td>\n",
              "      <td>-1.232622</td>\n",
              "      <td>-0.208038</td>\n",
              "      <td>-0.108300</td>\n",
              "      <td>0.005274</td>\n",
              "      <td>-0.190321</td>\n",
              "      <td>-1.175575</td>\n",
              "      <td>0.647376</td>\n",
              "      <td>-0.221929</td>\n",
              "      <td>0.062723</td>\n",
              "      <td>0.061458</td>\n",
              "      <td>123.50</td>\n",
              "      <td>0</td>\n",
              "    </tr>\n",
              "    <tr>\n",
              "      <th>4</th>\n",
              "      <td>2.0</td>\n",
              "      <td>-1.158233</td>\n",
              "      <td>0.877737</td>\n",
              "      <td>1.548718</td>\n",
              "      <td>0.403034</td>\n",
              "      <td>-0.407193</td>\n",
              "      <td>0.095921</td>\n",
              "      <td>0.592941</td>\n",
              "      <td>-0.270533</td>\n",
              "      <td>0.817739</td>\n",
              "      <td>0.753074</td>\n",
              "      <td>-0.822843</td>\n",
              "      <td>0.538196</td>\n",
              "      <td>1.345852</td>\n",
              "      <td>-1.119670</td>\n",
              "      <td>0.175121</td>\n",
              "      <td>-0.451449</td>\n",
              "      <td>-0.237033</td>\n",
              "      <td>-0.038195</td>\n",
              "      <td>0.803487</td>\n",
              "      <td>0.408542</td>\n",
              "      <td>-0.009431</td>\n",
              "      <td>0.798278</td>\n",
              "      <td>-0.137458</td>\n",
              "      <td>0.141267</td>\n",
              "      <td>-0.206010</td>\n",
              "      <td>0.502292</td>\n",
              "      <td>0.219422</td>\n",
              "      <td>0.215153</td>\n",
              "      <td>69.99</td>\n",
              "      <td>0</td>\n",
              "    </tr>\n",
              "  </tbody>\n",
              "</table>\n",
              "</div>"
            ],
            "text/plain": [
              "   Time        V1        V2        V3  ...       V27       V28  Amount  Class\n",
              "0   0.0 -1.359807 -0.072781  2.536347  ...  0.133558 -0.021053  149.62      0\n",
              "1   0.0  1.191857  0.266151  0.166480  ... -0.008983  0.014724    2.69      0\n",
              "2   1.0 -1.358354 -1.340163  1.773209  ... -0.055353 -0.059752  378.66      0\n",
              "3   1.0 -0.966272 -0.185226  1.792993  ...  0.062723  0.061458  123.50      0\n",
              "4   2.0 -1.158233  0.877737  1.548718  ...  0.219422  0.215153   69.99      0\n",
              "\n",
              "[5 rows x 31 columns]"
            ]
          },
          "metadata": {
            "tags": []
          },
          "execution_count": 2
        }
      ]
    },
    {
      "cell_type": "code",
      "metadata": {
        "id": "2AfWVLz-G8No",
        "outputId": "6f7f2716-1601-4afc-da26-26e92988e185",
        "colab": {
          "base_uri": "https://localhost:8080/"
        }
      },
      "source": [
        "#observe the different feature type present in the data\n",
        "df.describe"
      ],
      "execution_count": 3,
      "outputs": [
        {
          "output_type": "execute_result",
          "data": {
            "text/plain": [
              "<bound method NDFrame.describe of             Time         V1         V2  ...       V28  Amount  Class\n",
              "0            0.0  -1.359807  -0.072781  ... -0.021053  149.62      0\n",
              "1            0.0   1.191857   0.266151  ...  0.014724    2.69      0\n",
              "2            1.0  -1.358354  -1.340163  ... -0.059752  378.66      0\n",
              "3            1.0  -0.966272  -0.185226  ...  0.061458  123.50      0\n",
              "4            2.0  -1.158233   0.877737  ...  0.215153   69.99      0\n",
              "...          ...        ...        ...  ...       ...     ...    ...\n",
              "284802  172786.0 -11.881118  10.071785  ...  0.823731    0.77      0\n",
              "284803  172787.0  -0.732789  -0.055080  ... -0.053527   24.79      0\n",
              "284804  172788.0   1.919565  -0.301254  ... -0.026561   67.88      0\n",
              "284805  172788.0  -0.240440   0.530483  ...  0.104533   10.00      0\n",
              "284806  172792.0  -0.533413  -0.189733  ...  0.013649  217.00      0\n",
              "\n",
              "[284807 rows x 31 columns]>"
            ]
          },
          "metadata": {
            "tags": []
          },
          "execution_count": 3
        }
      ]
    },
    {
      "cell_type": "code",
      "metadata": {
        "id": "T_SyQR4bHAbm",
        "outputId": "a6c410ab-a474-49f1-9214-b8e0d1014218",
        "colab": {
          "base_uri": "https://localhost:8080/"
        }
      },
      "source": [
        "df.columns"
      ],
      "execution_count": 4,
      "outputs": [
        {
          "output_type": "execute_result",
          "data": {
            "text/plain": [
              "Index(['Time', 'V1', 'V2', 'V3', 'V4', 'V5', 'V6', 'V7', 'V8', 'V9', 'V10',\n",
              "       'V11', 'V12', 'V13', 'V14', 'V15', 'V16', 'V17', 'V18', 'V19', 'V20',\n",
              "       'V21', 'V22', 'V23', 'V24', 'V25', 'V26', 'V27', 'V28', 'Amount',\n",
              "       'Class'],\n",
              "      dtype='object')"
            ]
          },
          "metadata": {
            "tags": []
          },
          "execution_count": 4
        }
      ]
    },
    {
      "cell_type": "code",
      "metadata": {
        "id": "PSkESjSZHC_R",
        "outputId": "4a9460c3-5956-4dc4-9601-7f993b1cfeb4",
        "colab": {
          "base_uri": "https://localhost:8080/"
        }
      },
      "source": [
        "classes=df['Class'].value_counts()\n",
        "normal_share=classes[0]/df['Class'].count()*100\n",
        "fraud_share=classes[1]/df['Class'].count()*100\n",
        "print(normal_share)\n",
        "print(fraud_share)"
      ],
      "execution_count": 5,
      "outputs": [
        {
          "output_type": "stream",
          "text": [
            "99.82725143693798\n",
            "0.1727485630620034\n"
          ],
          "name": "stdout"
        }
      ]
    },
    {
      "cell_type": "code",
      "metadata": {
        "id": "7_K5zIwpHZ0o",
        "outputId": "cbf56f2b-e77a-4e58-9620-0d280c4b97ae",
        "colab": {
          "base_uri": "https://localhost:8080/",
          "height": 384
        }
      },
      "source": [
        "# Create a bar plot for the number and percentage of fraudulent vs non-fraudulent transcations\n",
        "\n",
        "sns.countplot('Class', data=df, palette= [\"#0101DF\", \"#DF0101\"])\n",
        "plt.title('Class Distributions \\n (0: Normal || 1: Fraud)', fontsize=14)"
      ],
      "execution_count": 6,
      "outputs": [
        {
          "output_type": "stream",
          "text": [
            "/usr/local/lib/python3.6/dist-packages/seaborn/_decorators.py:43: FutureWarning: Pass the following variable as a keyword arg: x. From version 0.12, the only valid positional argument will be `data`, and passing other arguments without an explicit keyword will result in an error or misinterpretation.\n",
            "  FutureWarning\n"
          ],
          "name": "stderr"
        },
        {
          "output_type": "execute_result",
          "data": {
            "text/plain": [
              "Text(0.5, 1.0, 'Class Distributions \\n (0: Normal || 1: Fraud)')"
            ]
          },
          "metadata": {
            "tags": []
          },
          "execution_count": 6
        },
        {
          "output_type": "display_data",
          "data": {
            "image/png": "[encoded data removed]",
            "text/plain": [
              "<Figure size 432x288 with 1 Axes>"
            ]
          },
          "metadata": {
            "tags": [],
            "needs_background": "light"
          }
        }
      ]
    },
    {
      "cell_type": "code",
      "metadata": {
        "id": "X_tJ1RvGHcob",
        "outputId": "b0507969-7778-47d9-95ce-77805a382ee2",
        "colab": {
          "base_uri": "https://localhost:8080/",
          "height": 759
        }
      },
      "source": [
        "# Create a scatter plot to observe the distribution of classes with time\n",
        "import seaborn as sns\n",
        "sns.lmplot('Class','Time', df, hue='Class', fit_reg=False)\n",
        "fig = plt.gcf()\n",
        "fig.set_size_inches(15, 10)\n",
        "plt.show()"
      ],
      "execution_count": 7,
      "outputs": [
        {
          "output_type": "stream",
          "text": [
            "/usr/local/lib/python3.6/dist-packages/seaborn/_decorators.py:43: FutureWarning: Pass the following variables as keyword args: x, y, data. From version 0.12, the only valid positional argument will be `data`, and passing other arguments without an explicit keyword will result in an error or misinterpretation.\n",
            "  FutureWarning\n"
          ],
          "name": "stderr"
        },
        {
          "output_type": "display_data",
          "data": {
            "image/png": "[encoded data removed]",
            "text/plain": [
              "<Figure size 1080x720 with 1 Axes>"
            ]
          },
          "metadata": {
            "tags": [],
            "needs_background": "light"
          }
        }
      ]
    },
    {
      "cell_type": "code",
      "metadata": {
        "id": "jAMWOKFgHgc5",
        "outputId": "d5a015cc-750e-4e41-cfa9-70f2d868f965",
        "colab": {
          "base_uri": "https://localhost:8080/"
        }
      },
      "source": [
        "df.isnull().sum().max()\n",
        "# one null values in the data set"
      ],
      "execution_count": 8,
      "outputs": [
        {
          "output_type": "execute_result",
          "data": {
            "text/plain": [
              "0"
            ]
          },
          "metadata": {
            "tags": []
          },
          "execution_count": 8
        }
      ]
    },
    {
      "cell_type": "code",
      "metadata": {
        "id": "gb-at_ZEJ5tg",
        "outputId": "2963d1e2-b715-4fc4-81a1-67ecbc211408",
        "colab": {
          "base_uri": "https://localhost:8080/"
        }
      },
      "source": [
        "df1 = df.dropna()\n",
        "print(df1)"
      ],
      "execution_count": 9,
      "outputs": [
        {
          "output_type": "stream",
          "text": [
            "            Time         V1         V2  ...       V28  Amount  Class\n",
            "0            0.0  -1.359807  -0.072781  ... -0.021053  149.62      0\n",
            "1            0.0   1.191857   0.266151  ...  0.014724    2.69      0\n",
            "2            1.0  -1.358354  -1.340163  ... -0.059752  378.66      0\n",
            "3            1.0  -0.966272  -0.185226  ...  0.061458  123.50      0\n",
            "4            2.0  -1.158233   0.877737  ...  0.215153   69.99      0\n",
            "...          ...        ...        ...  ...       ...     ...    ...\n",
            "284802  172786.0 -11.881118  10.071785  ...  0.823731    0.77      0\n",
            "284803  172787.0  -0.732789  -0.055080  ... -0.053527   24.79      0\n",
            "284804  172788.0   1.919565  -0.301254  ... -0.026561   67.88      0\n",
            "284805  172788.0  -0.240440   0.530483  ...  0.104533   10.00      0\n",
            "284806  172792.0  -0.533413  -0.189733  ...  0.013649  217.00      0\n",
            "\n",
            "[284807 rows x 31 columns]\n"
          ],
          "name": "stdout"
        }
      ]
    },
    {
      "cell_type": "code",
      "metadata": {
        "id": "Zsj7X5FkLaPX",
        "outputId": "de95b9e7-6423-43a5-b795-f80212e66d72",
        "colab": {
          "base_uri": "https://localhost:8080/"
        }
      },
      "source": [
        "df1.isnull().sum().max()\n",
        "# No null values in the data set"
      ],
      "execution_count": 10,
      "outputs": [
        {
          "output_type": "execute_result",
          "data": {
            "text/plain": [
              "0"
            ]
          },
          "metadata": {
            "tags": []
          },
          "execution_count": 10
        }
      ]
    },
    {
      "cell_type": "code",
      "metadata": {
        "id": "8BrMXaflS_DJ",
        "outputId": "783e00f3-dd12-487c-d7a6-3f6b08dff9b5",
        "colab": {
          "base_uri": "https://localhost:8080/",
          "height": 224
        }
      },
      "source": [
        "df1.head()"
      ],
      "execution_count": 11,
      "outputs": [
        {
          "output_type": "execute_result",
          "data": {
            "text/html": [
              "<div>\n",
              "<style scoped>\n",
              "    .dataframe tbody tr th:only-of-type {\n",
              "        vertical-align: middle;\n",
              "    }\n",
              "\n",
              "    .dataframe tbody tr th {\n",
              "        vertical-align: top;\n",
              "    }\n",
              "\n",
              "    .dataframe thead th {\n",
              "        text-align: right;\n",
              "    }\n",
              "</style>\n",
              "<table border=\"1\" class=\"dataframe\">\n",
              "  <thead>\n",
              "    <tr style=\"text-align: right;\">\n",
              "      <th></th>\n",
              "      <th>Time</th>\n",
              "      <th>V1</th>\n",
              "      <th>V2</th>\n",
              "      <th>V3</th>\n",
              "      <th>V4</th>\n",
              "      <th>V5</th>\n",
              "      <th>V6</th>\n",
              "      <th>V7</th>\n",
              "      <th>V8</th>\n",
              "      <th>V9</th>\n",
              "      <th>V10</th>\n",
              "      <th>V11</th>\n",
              "      <th>V12</th>\n",
              "      <th>V13</th>\n",
              "      <th>V14</th>\n",
              "      <th>V15</th>\n",
              "      <th>V16</th>\n",
              "      <th>V17</th>\n",
              "      <th>V18</th>\n",
              "      <th>V19</th>\n",
              "      <th>V20</th>\n",
              "      <th>V21</th>\n",
              "      <th>V22</th>\n",
              "      <th>V23</th>\n",
              "      <th>V24</th>\n",
              "      <th>V25</th>\n",
              "      <th>V26</th>\n",
              "      <th>V27</th>\n",
              "      <th>V28</th>\n",
              "      <th>Amount</th>\n",
              "      <th>Class</th>\n",
              "    </tr>\n",
              "  </thead>\n",
              "  <tbody>\n",
              "    <tr>\n",
              "      <th>0</th>\n",
              "      <td>0.0</td>\n",
              "      <td>-1.359807</td>\n",
              "      <td>-0.072781</td>\n",
              "      <td>2.536347</td>\n",
              "      <td>1.378155</td>\n",
              "      <td>-0.338321</td>\n",
              "      <td>0.462388</td>\n",
              "      <td>0.239599</td>\n",
              "      <td>0.098698</td>\n",
              "      <td>0.363787</td>\n",
              "      <td>0.090794</td>\n",
              "      <td>-0.551600</td>\n",
              "      <td>-0.617801</td>\n",
              "      <td>-0.991390</td>\n",
              "      <td>-0.311169</td>\n",
              "      <td>1.468177</td>\n",
              "      <td>-0.470401</td>\n",
              "      <td>0.207971</td>\n",
              "      <td>0.025791</td>\n",
              "      <td>0.403993</td>\n",
              "      <td>0.251412</td>\n",
              "      <td>-0.018307</td>\n",
              "      <td>0.277838</td>\n",
              "      <td>-0.110474</td>\n",
              "      <td>0.066928</td>\n",
              "      <td>0.128539</td>\n",
              "      <td>-0.189115</td>\n",
              "      <td>0.133558</td>\n",
              "      <td>-0.021053</td>\n",
              "      <td>149.62</td>\n",
              "      <td>0</td>\n",
              "    </tr>\n",
              "    <tr>\n",
              "      <th>1</th>\n",
              "      <td>0.0</td>\n",
              "      <td>1.191857</td>\n",
              "      <td>0.266151</td>\n",
              "      <td>0.166480</td>\n",
              "      <td>0.448154</td>\n",
              "      <td>0.060018</td>\n",
              "      <td>-0.082361</td>\n",
              "      <td>-0.078803</td>\n",
              "      <td>0.085102</td>\n",
              "      <td>-0.255425</td>\n",
              "      <td>-0.166974</td>\n",
              "      <td>1.612727</td>\n",
              "      <td>1.065235</td>\n",
              "      <td>0.489095</td>\n",
              "      <td>-0.143772</td>\n",
              "      <td>0.635558</td>\n",
              "      <td>0.463917</td>\n",
              "      <td>-0.114805</td>\n",
              "      <td>-0.183361</td>\n",
              "      <td>-0.145783</td>\n",
              "      <td>-0.069083</td>\n",
              "      <td>-0.225775</td>\n",
              "      <td>-0.638672</td>\n",
              "      <td>0.101288</td>\n",
              "      <td>-0.339846</td>\n",
              "      <td>0.167170</td>\n",
              "      <td>0.125895</td>\n",
              "      <td>-0.008983</td>\n",
              "      <td>0.014724</td>\n",
              "      <td>2.69</td>\n",
              "      <td>0</td>\n",
              "    </tr>\n",
              "    <tr>\n",
              "      <th>2</th>\n",
              "      <td>1.0</td>\n",
              "      <td>-1.358354</td>\n",
              "      <td>-1.340163</td>\n",
              "      <td>1.773209</td>\n",
              "      <td>0.379780</td>\n",
              "      <td>-0.503198</td>\n",
              "      <td>1.800499</td>\n",
              "      <td>0.791461</td>\n",
              "      <td>0.247676</td>\n",
              "      <td>-1.514654</td>\n",
              "      <td>0.207643</td>\n",
              "      <td>0.624501</td>\n",
              "      <td>0.066084</td>\n",
              "      <td>0.717293</td>\n",
              "      <td>-0.165946</td>\n",
              "      <td>2.345865</td>\n",
              "      <td>-2.890083</td>\n",
              "      <td>1.109969</td>\n",
              "      <td>-0.121359</td>\n",
              "      <td>-2.261857</td>\n",
              "      <td>0.524980</td>\n",
              "      <td>0.247998</td>\n",
              "      <td>0.771679</td>\n",
              "      <td>0.909412</td>\n",
              "      <td>-0.689281</td>\n",
              "      <td>-0.327642</td>\n",
              "      <td>-0.139097</td>\n",
              "      <td>-0.055353</td>\n",
              "      <td>-0.059752</td>\n",
              "      <td>378.66</td>\n",
              "      <td>0</td>\n",
              "    </tr>\n",
              "    <tr>\n",
              "      <th>3</th>\n",
              "      <td>1.0</td>\n",
              "      <td>-0.966272</td>\n",
              "      <td>-0.185226</td>\n",
              "      <td>1.792993</td>\n",
              "      <td>-0.863291</td>\n",
              "      <td>-0.010309</td>\n",
              "      <td>1.247203</td>\n",
              "      <td>0.237609</td>\n",
              "      <td>0.377436</td>\n",
              "      <td>-1.387024</td>\n",
              "      <td>-0.054952</td>\n",
              "      <td>-0.226487</td>\n",
              "      <td>0.178228</td>\n",
              "      <td>0.507757</td>\n",
              "      <td>-0.287924</td>\n",
              "      <td>-0.631418</td>\n",
              "      <td>-1.059647</td>\n",
              "      <td>-0.684093</td>\n",
              "      <td>1.965775</td>\n",
              "      <td>-1.232622</td>\n",
              "      <td>-0.208038</td>\n",
              "      <td>-0.108300</td>\n",
              "      <td>0.005274</td>\n",
              "      <td>-0.190321</td>\n",
              "      <td>-1.175575</td>\n",
              "      <td>0.647376</td>\n",
              "      <td>-0.221929</td>\n",
              "      <td>0.062723</td>\n",
              "      <td>0.061458</td>\n",
              "      <td>123.50</td>\n",
              "      <td>0</td>\n",
              "    </tr>\n",
              "    <tr>\n",
              "      <th>4</th>\n",
              "      <td>2.0</td>\n",
              "      <td>-1.158233</td>\n",
              "      <td>0.877737</td>\n",
              "      <td>1.548718</td>\n",
              "      <td>0.403034</td>\n",
              "      <td>-0.407193</td>\n",
              "      <td>0.095921</td>\n",
              "      <td>0.592941</td>\n",
              "      <td>-0.270533</td>\n",
              "      <td>0.817739</td>\n",
              "      <td>0.753074</td>\n",
              "      <td>-0.822843</td>\n",
              "      <td>0.538196</td>\n",
              "      <td>1.345852</td>\n",
              "      <td>-1.119670</td>\n",
              "      <td>0.175121</td>\n",
              "      <td>-0.451449</td>\n",
              "      <td>-0.237033</td>\n",
              "      <td>-0.038195</td>\n",
              "      <td>0.803487</td>\n",
              "      <td>0.408542</td>\n",
              "      <td>-0.009431</td>\n",
              "      <td>0.798278</td>\n",
              "      <td>-0.137458</td>\n",
              "      <td>0.141267</td>\n",
              "      <td>-0.206010</td>\n",
              "      <td>0.502292</td>\n",
              "      <td>0.219422</td>\n",
              "      <td>0.215153</td>\n",
              "      <td>69.99</td>\n",
              "      <td>0</td>\n",
              "    </tr>\n",
              "  </tbody>\n",
              "</table>\n",
              "</div>"
            ],
            "text/plain": [
              "   Time        V1        V2        V3  ...       V27       V28  Amount  Class\n",
              "0   0.0 -1.359807 -0.072781  2.536347  ...  0.133558 -0.021053  149.62      0\n",
              "1   0.0  1.191857  0.266151  0.166480  ... -0.008983  0.014724    2.69      0\n",
              "2   1.0 -1.358354 -1.340163  1.773209  ... -0.055353 -0.059752  378.66      0\n",
              "3   1.0 -0.966272 -0.185226  1.792993  ...  0.062723  0.061458  123.50      0\n",
              "4   2.0 -1.158233  0.877737  1.548718  ...  0.219422  0.215153   69.99      0\n",
              "\n",
              "[5 rows x 31 columns]"
            ]
          },
          "metadata": {
            "tags": []
          },
          "execution_count": 11
        }
      ]
    },
    {
      "cell_type": "code",
      "metadata": {
        "id": "RZXM5yZsTzFW"
      },
      "source": [
        "# Drop unnecessary columns\n",
        "#Will scale the amount and the time as all the other columns are already scaled \n",
        "from sklearn.preprocessing import StandardScaler, RobustScaler\n",
        "\n",
        "std_scaler = StandardScaler()\n",
        "rob_scaler = RobustScaler()\n",
        "\n",
        "df1['scaled_amount'] = rob_scaler.fit_transform(df1['Amount'].values.reshape(-1,1))\n",
        "df1['scaled_time'] = rob_scaler.fit_transform(df1['Time'].values.reshape(-1,1))\n",
        "\n",
        "df1.drop(['Time','Amount'], axis=1, inplace=True)"
      ],
      "execution_count": 12,
      "outputs": []
    },
    {
      "cell_type": "code",
      "metadata": {
        "id": "sr-ZYpOMT-vd",
        "outputId": "5021989c-9877-44d8-cc84-14b61cef7d60",
        "colab": {
          "base_uri": "https://localhost:8080/",
          "height": 224
        }
      },
      "source": [
        "scaled_amount = df1['scaled_amount']\n",
        "scaled_time = df1['scaled_time']\n",
        "\n",
        "df1.drop(['scaled_amount', 'scaled_time'], axis=1, inplace=True)\n",
        "df1.insert(0, 'scaled_amount', scaled_amount)\n",
        "df1.insert(1, 'scaled_time', scaled_time)\n",
        "\n",
        "# Amount and Time are Scaled!\n",
        "\n",
        "df1.head()"
      ],
      "execution_count": 13,
      "outputs": [
        {
          "output_type": "execute_result",
          "data": {
            "text/html": [
              "<div>\n",
              "<style scoped>\n",
              "    .dataframe tbody tr th:only-of-type {\n",
              "        vertical-align: middle;\n",
              "    }\n",
              "\n",
              "    .dataframe tbody tr th {\n",
              "        vertical-align: top;\n",
              "    }\n",
              "\n",
              "    .dataframe thead th {\n",
              "        text-align: right;\n",
              "    }\n",
              "</style>\n",
              "<table border=\"1\" class=\"dataframe\">\n",
              "  <thead>\n",
              "    <tr style=\"text-align: right;\">\n",
              "      <th></th>\n",
              "      <th>scaled_amount</th>\n",
              "      <th>scaled_time</th>\n",
              "      <th>V1</th>\n",
              "      <th>V2</th>\n",
              "      <th>V3</th>\n",
              "      <th>V4</th>\n",
              "      <th>V5</th>\n",
              "      <th>V6</th>\n",
              "      <th>V7</th>\n",
              "      <th>V8</th>\n",
              "      <th>V9</th>\n",
              "      <th>V10</th>\n",
              "      <th>V11</th>\n",
              "      <th>V12</th>\n",
              "      <th>V13</th>\n",
              "      <th>V14</th>\n",
              "      <th>V15</th>\n",
              "      <th>V16</th>\n",
              "      <th>V17</th>\n",
              "      <th>V18</th>\n",
              "      <th>V19</th>\n",
              "      <th>V20</th>\n",
              "      <th>V21</th>\n",
              "      <th>V22</th>\n",
              "      <th>V23</th>\n",
              "      <th>V24</th>\n",
              "      <th>V25</th>\n",
              "      <th>V26</th>\n",
              "      <th>V27</th>\n",
              "      <th>V28</th>\n",
              "      <th>Class</th>\n",
              "    </tr>\n",
              "  </thead>\n",
              "  <tbody>\n",
              "    <tr>\n",
              "      <th>0</th>\n",
              "      <td>1.783274</td>\n",
              "      <td>-0.994983</td>\n",
              "      <td>-1.359807</td>\n",
              "      <td>-0.072781</td>\n",
              "      <td>2.536347</td>\n",
              "      <td>1.378155</td>\n",
              "      <td>-0.338321</td>\n",
              "      <td>0.462388</td>\n",
              "      <td>0.239599</td>\n",
              "      <td>0.098698</td>\n",
              "      <td>0.363787</td>\n",
              "      <td>0.090794</td>\n",
              "      <td>-0.551600</td>\n",
              "      <td>-0.617801</td>\n",
              "      <td>-0.991390</td>\n",
              "      <td>-0.311169</td>\n",
              "      <td>1.468177</td>\n",
              "      <td>-0.470401</td>\n",
              "      <td>0.207971</td>\n",
              "      <td>0.025791</td>\n",
              "      <td>0.403993</td>\n",
              "      <td>0.251412</td>\n",
              "      <td>-0.018307</td>\n",
              "      <td>0.277838</td>\n",
              "      <td>-0.110474</td>\n",
              "      <td>0.066928</td>\n",
              "      <td>0.128539</td>\n",
              "      <td>-0.189115</td>\n",
              "      <td>0.133558</td>\n",
              "      <td>-0.021053</td>\n",
              "      <td>0</td>\n",
              "    </tr>\n",
              "    <tr>\n",
              "      <th>1</th>\n",
              "      <td>-0.269825</td>\n",
              "      <td>-0.994983</td>\n",
              "      <td>1.191857</td>\n",
              "      <td>0.266151</td>\n",
              "      <td>0.166480</td>\n",
              "      <td>0.448154</td>\n",
              "      <td>0.060018</td>\n",
              "      <td>-0.082361</td>\n",
              "      <td>-0.078803</td>\n",
              "      <td>0.085102</td>\n",
              "      <td>-0.255425</td>\n",
              "      <td>-0.166974</td>\n",
              "      <td>1.612727</td>\n",
              "      <td>1.065235</td>\n",
              "      <td>0.489095</td>\n",
              "      <td>-0.143772</td>\n",
              "      <td>0.635558</td>\n",
              "      <td>0.463917</td>\n",
              "      <td>-0.114805</td>\n",
              "      <td>-0.183361</td>\n",
              "      <td>-0.145783</td>\n",
              "      <td>-0.069083</td>\n",
              "      <td>-0.225775</td>\n",
              "      <td>-0.638672</td>\n",
              "      <td>0.101288</td>\n",
              "      <td>-0.339846</td>\n",
              "      <td>0.167170</td>\n",
              "      <td>0.125895</td>\n",
              "      <td>-0.008983</td>\n",
              "      <td>0.014724</td>\n",
              "      <td>0</td>\n",
              "    </tr>\n",
              "    <tr>\n",
              "      <th>2</th>\n",
              "      <td>4.983721</td>\n",
              "      <td>-0.994972</td>\n",
              "      <td>-1.358354</td>\n",
              "      <td>-1.340163</td>\n",
              "      <td>1.773209</td>\n",
              "      <td>0.379780</td>\n",
              "      <td>-0.503198</td>\n",
              "      <td>1.800499</td>\n",
              "      <td>0.791461</td>\n",
              "      <td>0.247676</td>\n",
              "      <td>-1.514654</td>\n",
              "      <td>0.207643</td>\n",
              "      <td>0.624501</td>\n",
              "      <td>0.066084</td>\n",
              "      <td>0.717293</td>\n",
              "      <td>-0.165946</td>\n",
              "      <td>2.345865</td>\n",
              "      <td>-2.890083</td>\n",
              "      <td>1.109969</td>\n",
              "      <td>-0.121359</td>\n",
              "      <td>-2.261857</td>\n",
              "      <td>0.524980</td>\n",
              "      <td>0.247998</td>\n",
              "      <td>0.771679</td>\n",
              "      <td>0.909412</td>\n",
              "      <td>-0.689281</td>\n",
              "      <td>-0.327642</td>\n",
              "      <td>-0.139097</td>\n",
              "      <td>-0.055353</td>\n",
              "      <td>-0.059752</td>\n",
              "      <td>0</td>\n",
              "    </tr>\n",
              "    <tr>\n",
              "      <th>3</th>\n",
              "      <td>1.418291</td>\n",
              "      <td>-0.994972</td>\n",
              "      <td>-0.966272</td>\n",
              "      <td>-0.185226</td>\n",
              "      <td>1.792993</td>\n",
              "      <td>-0.863291</td>\n",
              "      <td>-0.010309</td>\n",
              "      <td>1.247203</td>\n",
              "      <td>0.237609</td>\n",
              "      <td>0.377436</td>\n",
              "      <td>-1.387024</td>\n",
              "      <td>-0.054952</td>\n",
              "      <td>-0.226487</td>\n",
              "      <td>0.178228</td>\n",
              "      <td>0.507757</td>\n",
              "      <td>-0.287924</td>\n",
              "      <td>-0.631418</td>\n",
              "      <td>-1.059647</td>\n",
              "      <td>-0.684093</td>\n",
              "      <td>1.965775</td>\n",
              "      <td>-1.232622</td>\n",
              "      <td>-0.208038</td>\n",
              "      <td>-0.108300</td>\n",
              "      <td>0.005274</td>\n",
              "      <td>-0.190321</td>\n",
              "      <td>-1.175575</td>\n",
              "      <td>0.647376</td>\n",
              "      <td>-0.221929</td>\n",
              "      <td>0.062723</td>\n",
              "      <td>0.061458</td>\n",
              "      <td>0</td>\n",
              "    </tr>\n",
              "    <tr>\n",
              "      <th>4</th>\n",
              "      <td>0.670579</td>\n",
              "      <td>-0.994960</td>\n",
              "      <td>-1.158233</td>\n",
              "      <td>0.877737</td>\n",
              "      <td>1.548718</td>\n",
              "      <td>0.403034</td>\n",
              "      <td>-0.407193</td>\n",
              "      <td>0.095921</td>\n",
              "      <td>0.592941</td>\n",
              "      <td>-0.270533</td>\n",
              "      <td>0.817739</td>\n",
              "      <td>0.753074</td>\n",
              "      <td>-0.822843</td>\n",
              "      <td>0.538196</td>\n",
              "      <td>1.345852</td>\n",
              "      <td>-1.119670</td>\n",
              "      <td>0.175121</td>\n",
              "      <td>-0.451449</td>\n",
              "      <td>-0.237033</td>\n",
              "      <td>-0.038195</td>\n",
              "      <td>0.803487</td>\n",
              "      <td>0.408542</td>\n",
              "      <td>-0.009431</td>\n",
              "      <td>0.798278</td>\n",
              "      <td>-0.137458</td>\n",
              "      <td>0.141267</td>\n",
              "      <td>-0.206010</td>\n",
              "      <td>0.502292</td>\n",
              "      <td>0.219422</td>\n",
              "      <td>0.215153</td>\n",
              "      <td>0</td>\n",
              "    </tr>\n",
              "  </tbody>\n",
              "</table>\n",
              "</div>"
            ],
            "text/plain": [
              "   scaled_amount  scaled_time        V1  ...       V27       V28  Class\n",
              "0       1.783274    -0.994983 -1.359807  ...  0.133558 -0.021053      0\n",
              "1      -0.269825    -0.994983  1.191857  ... -0.008983  0.014724      0\n",
              "2       4.983721    -0.994972 -1.358354  ... -0.055353 -0.059752      0\n",
              "3       1.418291    -0.994972 -0.966272  ...  0.062723  0.061458      0\n",
              "4       0.670579    -0.994960 -1.158233  ...  0.219422  0.215153      0\n",
              "\n",
              "[5 rows x 31 columns]"
            ]
          },
          "metadata": {
            "tags": []
          },
          "execution_count": 13
        }
      ]
    },
    {
      "cell_type": "markdown",
      "metadata": {
        "id": "4Mto_Zv4HveL"
      },
      "source": [
        "# **Splitting the data into train & test data**"
      ]
    },
    {
      "cell_type": "code",
      "metadata": {
        "id": "uR_UmG5_HqhO"
      },
      "source": [
        "y= df1['Class']\n",
        "X = df1.drop('Class', axis=1)"
      ],
      "execution_count": 14,
      "outputs": []
    },
    {
      "cell_type": "code",
      "metadata": {
        "id": "sCSaX4qNH54J"
      },
      "source": [
        "from sklearn import model_selection\n",
        "from sklearn.model_selection import train_test_split\n",
        "\n",
        "X_train, X_test, y_train, y_test = train_test_split(X,y, train_size=0.7,test_size=0.3,random_state=100)\n"
      ],
      "execution_count": 15,
      "outputs": []
    },
    {
      "cell_type": "markdown",
      "metadata": {
        "id": "wPDIPfSBICqR"
      },
      "source": [
        "Preserve X_test & y_test to evaluate on the test data once you build the model"
      ]
    },
    {
      "cell_type": "code",
      "metadata": {
        "id": "Xx5SapM9H8aY",
        "outputId": "a062cc6d-e698-4801-dd8c-4856e53d138b",
        "colab": {
          "base_uri": "https://localhost:8080/"
        }
      },
      "source": [
        "print(np.sum(y))\n",
        "print(np.sum(y_train))\n",
        "print(np.sum(y_test))"
      ],
      "execution_count": 16,
      "outputs": [
        {
          "output_type": "stream",
          "text": [
            "492\n",
            "350\n",
            "142\n"
          ],
          "name": "stdout"
        }
      ]
    },
    {
      "cell_type": "code",
      "metadata": {
        "id": "DdJ7PxDTH-U7",
        "outputId": "b5a5b4b2-50dc-45ba-ba7b-0a4211a3c4d4",
        "colab": {
          "base_uri": "https://localhost:8080/"
        }
      },
      "source": [
        "#skewness\n",
        "\n",
        "skew_ = df.skew()\n",
        "skew_"
      ],
      "execution_count": 17,
      "outputs": [
        {
          "output_type": "execute_result",
          "data": {
            "text/plain": [
              "Time      -0.035568\n",
              "V1        -3.280667\n",
              "V2        -4.624866\n",
              "V3        -2.240155\n",
              "V4         0.676292\n",
              "V5        -2.425901\n",
              "V6         1.826581\n",
              "V7         2.553907\n",
              "V8        -8.521944\n",
              "V9         0.554680\n",
              "V10        1.187141\n",
              "V11        0.356506\n",
              "V12       -2.278401\n",
              "V13        0.065233\n",
              "V14       -1.995176\n",
              "V15       -0.308423\n",
              "V16       -1.100966\n",
              "V17       -3.844914\n",
              "V18       -0.259880\n",
              "V19        0.109192\n",
              "V20       -2.037155\n",
              "V21        3.592991\n",
              "V22       -0.213258\n",
              "V23       -5.875140\n",
              "V24       -0.552499\n",
              "V25       -0.415793\n",
              "V26        0.576693\n",
              "V27       -1.170209\n",
              "V28       11.192091\n",
              "Amount    16.977724\n",
              "Class     23.997579\n",
              "dtype: float64"
            ]
          },
          "metadata": {
            "tags": []
          },
          "execution_count": 17
        }
      ]
    },
    {
      "cell_type": "markdown",
      "metadata": {
        "id": "Eo-w2C1WIRh1"
      },
      "source": [
        "**Plotting the distribution of a variable**"
      ]
    },
    {
      "cell_type": "code",
      "metadata": {
        "id": "AW7D4nmGIMvJ",
        "outputId": "6961769d-663d-4642-c8a9-25c974903688",
        "colab": {
          "base_uri": "https://localhost:8080/",
          "height": 1000
        }
      },
      "source": [
        "fig, axes = plt.subplots(nrows = 11, ncols=3, figsize = (15,20))\n",
        "# ax=axes[29,1]\n",
        "\n",
        "for i, column in enumerate(df.columns):\n",
        "    sns.distplot(df[column],ax=axes[i//3,i%3],axlabel=column)\n",
        "    \n",
        "plt.tight_layout()\n",
        "plt.show()"
      ],
      "execution_count": 18,
      "outputs": [
        {
          "output_type": "stream",
          "text": [
            "/usr/local/lib/python3.6/dist-packages/seaborn/distributions.py:2551: FutureWarning: `distplot` is a deprecated function and will be removed in a future version. Please adapt your code to use either `displot` (a figure-level function with similar flexibility) or `histplot` (an axes-level function for histograms).\n",
            "  warnings.warn(msg, FutureWarning)\n",
            "/usr/local/lib/python3.6/dist-packages/seaborn/distributions.py:2551: FutureWarning: `distplot` is a deprecated function and will be removed in a future version. Please adapt your code to use either `displot` (a figure-level function with similar flexibility) or `histplot` (an axes-level function for histograms).\n",
            "  warnings.warn(msg, FutureWarning)\n",
            "/usr/local/lib/python3.6/dist-packages/seaborn/distributions.py:2551: FutureWarning: `distplot` is a deprecated function and will be removed in a future version. Please adapt your code to use either `displot` (a figure-level function with similar flexibility) or `histplot` (an axes-level function for histograms).\n",
            "  warnings.warn(msg, FutureWarning)\n",
            "/usr/local/lib/python3.6/dist-packages/seaborn/distributions.py:2551: FutureWarning: `distplot` is a deprecated function and will be removed in a future version. Please adapt your code to use either `displot` (a figure-level function with similar flexibility) or `histplot` (an axes-level function for histograms).\n",
            "  warnings.warn(msg, FutureWarning)\n",
            "/usr/local/lib/python3.6/dist-packages/seaborn/distributions.py:2551: FutureWarning: `distplot` is a deprecated function and will be removed in a future version. Please adapt your code to use either `displot` (a figure-level function with similar flexibility) or `histplot` (an axes-level function for histograms).\n",
            "  warnings.warn(msg, FutureWarning)\n",
            "/usr/local/lib/python3.6/dist-packages/seaborn/distributions.py:2551: FutureWarning: `distplot` is a deprecated function and will be removed in a future version. Please adapt your code to use either `displot` (a figure-level function with similar flexibility) or `histplot` (an axes-level function for histograms).\n",
            "  warnings.warn(msg, FutureWarning)\n",
            "/usr/local/lib/python3.6/dist-packages/seaborn/distributions.py:2551: FutureWarning: `distplot` is a deprecated function and will be removed in a future version. Please adapt your code to use either `displot` (a figure-level function with similar flexibility) or `histplot` (an axes-level function for histograms).\n",
            "  warnings.warn(msg, FutureWarning)\n",
            "/usr/local/lib/python3.6/dist-packages/seaborn/distributions.py:2551: FutureWarning: `distplot` is a deprecated function and will be removed in a future version. Please adapt your code to use either `displot` (a figure-level function with similar flexibility) or `histplot` (an axes-level function for histograms).\n",
            "  warnings.warn(msg, FutureWarning)\n",
            "/usr/local/lib/python3.6/dist-packages/seaborn/distributions.py:2551: FutureWarning: `distplot` is a deprecated function and will be removed in a future version. Please adapt your code to use either `displot` (a figure-level function with similar flexibility) or `histplot` (an axes-level function for histograms).\n",
            "  warnings.warn(msg, FutureWarning)\n",
            "/usr/local/lib/python3.6/dist-packages/seaborn/distributions.py:2551: FutureWarning: `distplot` is a deprecated function and will be removed in a future version. Please adapt your code to use either `displot` (a figure-level function with similar flexibility) or `histplot` (an axes-level function for histograms).\n",
            "  warnings.warn(msg, FutureWarning)\n",
            "/usr/local/lib/python3.6/dist-packages/seaborn/distributions.py:2551: FutureWarning: `distplot` is a deprecated function and will be removed in a future version. Please adapt your code to use either `displot` (a figure-level function with similar flexibility) or `histplot` (an axes-level function for histograms).\n",
            "  warnings.warn(msg, FutureWarning)\n",
            "/usr/local/lib/python3.6/dist-packages/seaborn/distributions.py:2551: FutureWarning: `distplot` is a deprecated function and will be removed in a future version. Please adapt your code to use either `displot` (a figure-level function with similar flexibility) or `histplot` (an axes-level function for histograms).\n",
            "  warnings.warn(msg, FutureWarning)\n",
            "/usr/local/lib/python3.6/dist-packages/seaborn/distributions.py:2551: FutureWarning: `distplot` is a deprecated function and will be removed in a future version. Please adapt your code to use either `displot` (a figure-level function with similar flexibility) or `histplot` (an axes-level function for histograms).\n",
            "  warnings.warn(msg, FutureWarning)\n",
            "/usr/local/lib/python3.6/dist-packages/seaborn/distributions.py:2551: FutureWarning: `distplot` is a deprecated function and will be removed in a future version. Please adapt your code to use either `displot` (a figure-level function with similar flexibility) or `histplot` (an axes-level function for histograms).\n",
            "  warnings.warn(msg, FutureWarning)\n",
            "/usr/local/lib/python3.6/dist-packages/seaborn/distributions.py:2551: FutureWarning: `distplot` is a deprecated function and will be removed in a future version. Please adapt your code to use either `displot` (a figure-level function with similar flexibility) or `histplot` (an axes-level function for histograms).\n",
            "  warnings.warn(msg, FutureWarning)\n",
            "/usr/local/lib/python3.6/dist-packages/seaborn/distributions.py:2551: FutureWarning: `distplot` is a deprecated function and will be removed in a future version. Please adapt your code to use either `displot` (a figure-level function with similar flexibility) or `histplot` (an axes-level function for histograms).\n",
            "  warnings.warn(msg, FutureWarning)\n",
            "/usr/local/lib/python3.6/dist-packages/seaborn/distributions.py:2551: FutureWarning: `distplot` is a deprecated function and will be removed in a future version. Please adapt your code to use either `displot` (a figure-level function with similar flexibility) or `histplot` (an axes-level function for histograms).\n",
            "  warnings.warn(msg, FutureWarning)\n",
            "/usr/local/lib/python3.6/dist-packages/seaborn/distributions.py:2551: FutureWarning: `distplot` is a deprecated function and will be removed in a future version. Please adapt your code to use either `displot` (a figure-level function with similar flexibility) or `histplot` (an axes-level function for histograms).\n",
            "  warnings.warn(msg, FutureWarning)\n",
            "/usr/local/lib/python3.6/dist-packages/seaborn/distributions.py:2551: FutureWarning: `distplot` is a deprecated function and will be removed in a future version. Please adapt your code to use either `displot` (a figure-level function with similar flexibility) or `histplot` (an axes-level function for histograms).\n",
            "  warnings.warn(msg, FutureWarning)\n",
            "/usr/local/lib/python3.6/dist-packages/seaborn/distributions.py:2551: FutureWarning: `distplot` is a deprecated function and will be removed in a future version. Please adapt your code to use either `displot` (a figure-level function with similar flexibility) or `histplot` (an axes-level function for histograms).\n",
            "  warnings.warn(msg, FutureWarning)\n",
            "/usr/local/lib/python3.6/dist-packages/seaborn/distributions.py:2551: FutureWarning: `distplot` is a deprecated function and will be removed in a future version. Please adapt your code to use either `displot` (a figure-level function with similar flexibility) or `histplot` (an axes-level function for histograms).\n",
            "  warnings.warn(msg, FutureWarning)\n",
            "/usr/local/lib/python3.6/dist-packages/seaborn/distributions.py:2551: FutureWarning: `distplot` is a deprecated function and will be removed in a future version. Please adapt your code to use either `displot` (a figure-level function with similar flexibility) or `histplot` (an axes-level function for histograms).\n",
            "  warnings.warn(msg, FutureWarning)\n",
            "/usr/local/lib/python3.6/dist-packages/seaborn/distributions.py:2551: FutureWarning: `distplot` is a deprecated function and will be removed in a future version. Please adapt your code to use either `displot` (a figure-level function with similar flexibility) or `histplot` (an axes-level function for histograms).\n",
            "  warnings.warn(msg, FutureWarning)\n",
            "/usr/local/lib/python3.6/dist-packages/seaborn/distributions.py:2551: FutureWarning: `distplot` is a deprecated function and will be removed in a future version. Please adapt your code to use either `displot` (a figure-level function with similar flexibility) or `histplot` (an axes-level function for histograms).\n",
            "  warnings.warn(msg, FutureWarning)\n",
            "/usr/local/lib/python3.6/dist-packages/seaborn/distributions.py:2551: FutureWarning: `distplot` is a deprecated function and will be removed in a future version. Please adapt your code to use either `displot` (a figure-level function with similar flexibility) or `histplot` (an axes-level function for histograms).\n",
            "  warnings.warn(msg, FutureWarning)\n",
            "/usr/local/lib/python3.6/dist-packages/seaborn/distributions.py:2551: FutureWarning: `distplot` is a deprecated function and will be removed in a future version. Please adapt your code to use either `displot` (a figure-level function with similar flexibility) or `histplot` (an axes-level function for histograms).\n",
            "  warnings.warn(msg, FutureWarning)\n",
            "/usr/local/lib/python3.6/dist-packages/seaborn/distributions.py:2551: FutureWarning: `distplot` is a deprecated function and will be removed in a future version. Please adapt your code to use either `displot` (a figure-level function with similar flexibility) or `histplot` (an axes-level function for histograms).\n",
            "  warnings.warn(msg, FutureWarning)\n",
            "/usr/local/lib/python3.6/dist-packages/seaborn/distributions.py:2551: FutureWarning: `distplot` is a deprecated function and will be removed in a future version. Please adapt your code to use either `displot` (a figure-level function with similar flexibility) or `histplot` (an axes-level function for histograms).\n",
            "  warnings.warn(msg, FutureWarning)\n",
            "/usr/local/lib/python3.6/dist-packages/seaborn/distributions.py:2551: FutureWarning: `distplot` is a deprecated function and will be removed in a future version. Please adapt your code to use either `displot` (a figure-level function with similar flexibility) or `histplot` (an axes-level function for histograms).\n",
            "  warnings.warn(msg, FutureWarning)\n",
            "/usr/local/lib/python3.6/dist-packages/seaborn/distributions.py:2551: FutureWarning: `distplot` is a deprecated function and will be removed in a future version. Please adapt your code to use either `displot` (a figure-level function with similar flexibility) or `histplot` (an axes-level function for histograms).\n",
            "  warnings.warn(msg, FutureWarning)\n",
            "/usr/local/lib/python3.6/dist-packages/seaborn/distributions.py:2551: FutureWarning: `distplot` is a deprecated function and will be removed in a future version. Please adapt your code to use either `displot` (a figure-level function with similar flexibility) or `histplot` (an axes-level function for histograms).\n",
            "  warnings.warn(msg, FutureWarning)\n"
          ],
          "name": "stderr"
        },
        {
          "output_type": "display_data",
          "data": {
            "image/png": "[encoded data removed]",
            "text/plain": [
              "<Figure size 1080x1440 with 33 Axes>"
            ]
          },
          "metadata": {
            "tags": [],
            "needs_background": "light"
          }
        }
      ]
    },
    {
      "cell_type": "code",
      "metadata": {
        "id": "Fd9aLLMNIdbz"
      },
      "source": [
        "from sklearn.preprocessing import PolynomialFeatures,PowerTransformer\n",
        "pt = PowerTransformer()\n",
        "pt.fit(X_train)                       ## Fit the PT on training data\n",
        "X_train_pt = pt.transform(X_train)    ## Then apply on all data\n",
        "X_test_pt = pt.transform(X_test)\n",
        "# X_val_pt = pt.transform(X_val)\n",
        "\n",
        "## Here we are doing the same thing, but for the dependent variable 'Class' exclusively\n",
        "pt_y = PowerTransformer()\n",
        "# PowerTransformer requires a matrix/DataFrame\n",
        "pt_y.fit(y_train.to_frame())\n",
        " \n",
        "y_train_pt = pt_y.transform(y_train.to_frame())\n",
        "y_test_pt = pt_y.transform(y_test.to_frame())"
      ],
      "execution_count": 19,
      "outputs": []
    },
    {
      "cell_type": "markdown",
      "metadata": {
        "id": "AN64QFuNIpFA"
      },
      "source": [
        "**If there is skewness present in the distribution use:**\n",
        "Power Transformer package present in the preprocessing library provided by sklearn to make distribution more gaussian"
      ]
    },
    {
      "cell_type": "code",
      "metadata": {
        "id": "_C9AklPTImT4"
      },
      "source": [
        "# - Apply : preprocessing.PowerTransformer(copy=False) to fit & transform the train & test data\n",
        "X_train_pt = pd.DataFrame(X_train_pt,columns = X_train.columns)"
      ],
      "execution_count": 20,
      "outputs": []
    },
    {
      "cell_type": "code",
      "metadata": {
        "id": "JVy8KkuoIzVB",
        "outputId": "4f0b61b6-47bb-46e5-e47e-28a45fc86bb8",
        "colab": {
          "base_uri": "https://localhost:8080/",
          "height": 1000
        }
      },
      "source": [
        "# plot the histogram of a variable from the dataset again to see the result \n",
        "fig, axes = plt.subplots(nrows = 10, ncols=3, figsize = (15,20))\n",
        "\n",
        "for i, column in enumerate(X_train_pt.columns):\n",
        "    sns.distplot(X_train_pt[column],ax=axes[i//3,i%3],axlabel=column)\n",
        "\n",
        "plt.show()"
      ],
      "execution_count": 21,
      "outputs": [
        {
          "output_type": "stream",
          "text": [
            "/usr/local/lib/python3.6/dist-packages/seaborn/distributions.py:2551: FutureWarning: `distplot` is a deprecated function and will be removed in a future version. Please adapt your code to use either `displot` (a figure-level function with similar flexibility) or `histplot` (an axes-level function for histograms).\n",
            "  warnings.warn(msg, FutureWarning)\n",
            "/usr/local/lib/python3.6/dist-packages/seaborn/distributions.py:2551: FutureWarning: `distplot` is a deprecated function and will be removed in a future version. Please adapt your code to use either `displot` (a figure-level function with similar flexibility) or `histplot` (an axes-level function for histograms).\n",
            "  warnings.warn(msg, FutureWarning)\n",
            "/usr/local/lib/python3.6/dist-packages/seaborn/distributions.py:2551: FutureWarning: `distplot` is a deprecated function and will be removed in a future version. Please adapt your code to use either `displot` (a figure-level function with similar flexibility) or `histplot` (an axes-level function for histograms).\n",
            "  warnings.warn(msg, FutureWarning)\n",
            "/usr/local/lib/python3.6/dist-packages/seaborn/distributions.py:2551: FutureWarning: `distplot` is a deprecated function and will be removed in a future version. Please adapt your code to use either `displot` (a figure-level function with similar flexibility) or `histplot` (an axes-level function for histograms).\n",
            "  warnings.warn(msg, FutureWarning)\n",
            "/usr/local/lib/python3.6/dist-packages/seaborn/distributions.py:2551: FutureWarning: `distplot` is a deprecated function and will be removed in a future version. Please adapt your code to use either `displot` (a figure-level function with similar flexibility) or `histplot` (an axes-level function for histograms).\n",
            "  warnings.warn(msg, FutureWarning)\n",
            "/usr/local/lib/python3.6/dist-packages/seaborn/distributions.py:2551: FutureWarning: `distplot` is a deprecated function and will be removed in a future version. Please adapt your code to use either `displot` (a figure-level function with similar flexibility) or `histplot` (an axes-level function for histograms).\n",
            "  warnings.warn(msg, FutureWarning)\n",
            "/usr/local/lib/python3.6/dist-packages/seaborn/distributions.py:2551: FutureWarning: `distplot` is a deprecated function and will be removed in a future version. Please adapt your code to use either `displot` (a figure-level function with similar flexibility) or `histplot` (an axes-level function for histograms).\n",
            "  warnings.warn(msg, FutureWarning)\n",
            "/usr/local/lib/python3.6/dist-packages/seaborn/distributions.py:2551: FutureWarning: `distplot` is a deprecated function and will be removed in a future version. Please adapt your code to use either `displot` (a figure-level function with similar flexibility) or `histplot` (an axes-level function for histograms).\n",
            "  warnings.warn(msg, FutureWarning)\n",
            "/usr/local/lib/python3.6/dist-packages/seaborn/distributions.py:2551: FutureWarning: `distplot` is a deprecated function and will be removed in a future version. Please adapt your code to use either `displot` (a figure-level function with similar flexibility) or `histplot` (an axes-level function for histograms).\n",
            "  warnings.warn(msg, FutureWarning)\n",
            "/usr/local/lib/python3.6/dist-packages/seaborn/distributions.py:2551: FutureWarning: `distplot` is a deprecated function and will be removed in a future version. Please adapt your code to use either `displot` (a figure-level function with similar flexibility) or `histplot` (an axes-level function for histograms).\n",
            "  warnings.warn(msg, FutureWarning)\n",
            "/usr/local/lib/python3.6/dist-packages/seaborn/distributions.py:2551: FutureWarning: `distplot` is a deprecated function and will be removed in a future version. Please adapt your code to use either `displot` (a figure-level function with similar flexibility) or `histplot` (an axes-level function for histograms).\n",
            "  warnings.warn(msg, FutureWarning)\n",
            "/usr/local/lib/python3.6/dist-packages/seaborn/distributions.py:2551: FutureWarning: `distplot` is a deprecated function and will be removed in a future version. Please adapt your code to use either `displot` (a figure-level function with similar flexibility) or `histplot` (an axes-level function for histograms).\n",
            "  warnings.warn(msg, FutureWarning)\n",
            "/usr/local/lib/python3.6/dist-packages/seaborn/distributions.py:2551: FutureWarning: `distplot` is a deprecated function and will be removed in a future version. Please adapt your code to use either `displot` (a figure-level function with similar flexibility) or `histplot` (an axes-level function for histograms).\n",
            "  warnings.warn(msg, FutureWarning)\n",
            "/usr/local/lib/python3.6/dist-packages/seaborn/distributions.py:2551: FutureWarning: `distplot` is a deprecated function and will be removed in a future version. Please adapt your code to use either `displot` (a figure-level function with similar flexibility) or `histplot` (an axes-level function for histograms).\n",
            "  warnings.warn(msg, FutureWarning)\n",
            "/usr/local/lib/python3.6/dist-packages/seaborn/distributions.py:2551: FutureWarning: `distplot` is a deprecated function and will be removed in a future version. Please adapt your code to use either `displot` (a figure-level function with similar flexibility) or `histplot` (an axes-level function for histograms).\n",
            "  warnings.warn(msg, FutureWarning)\n",
            "/usr/local/lib/python3.6/dist-packages/seaborn/distributions.py:2551: FutureWarning: `distplot` is a deprecated function and will be removed in a future version. Please adapt your code to use either `displot` (a figure-level function with similar flexibility) or `histplot` (an axes-level function for histograms).\n",
            "  warnings.warn(msg, FutureWarning)\n",
            "/usr/local/lib/python3.6/dist-packages/seaborn/distributions.py:2551: FutureWarning: `distplot` is a deprecated function and will be removed in a future version. Please adapt your code to use either `displot` (a figure-level function with similar flexibility) or `histplot` (an axes-level function for histograms).\n",
            "  warnings.warn(msg, FutureWarning)\n",
            "/usr/local/lib/python3.6/dist-packages/seaborn/distributions.py:2551: FutureWarning: `distplot` is a deprecated function and will be removed in a future version. Please adapt your code to use either `displot` (a figure-level function with similar flexibility) or `histplot` (an axes-level function for histograms).\n",
            "  warnings.warn(msg, FutureWarning)\n",
            "/usr/local/lib/python3.6/dist-packages/seaborn/distributions.py:2551: FutureWarning: `distplot` is a deprecated function and will be removed in a future version. Please adapt your code to use either `displot` (a figure-level function with similar flexibility) or `histplot` (an axes-level function for histograms).\n",
            "  warnings.warn(msg, FutureWarning)\n",
            "/usr/local/lib/python3.6/dist-packages/seaborn/distributions.py:2551: FutureWarning: `distplot` is a deprecated function and will be removed in a future version. Please adapt your code to use either `displot` (a figure-level function with similar flexibility) or `histplot` (an axes-level function for histograms).\n",
            "  warnings.warn(msg, FutureWarning)\n",
            "/usr/local/lib/python3.6/dist-packages/seaborn/distributions.py:2551: FutureWarning: `distplot` is a deprecated function and will be removed in a future version. Please adapt your code to use either `displot` (a figure-level function with similar flexibility) or `histplot` (an axes-level function for histograms).\n",
            "  warnings.warn(msg, FutureWarning)\n",
            "/usr/local/lib/python3.6/dist-packages/seaborn/distributions.py:2551: FutureWarning: `distplot` is a deprecated function and will be removed in a future version. Please adapt your code to use either `displot` (a figure-level function with similar flexibility) or `histplot` (an axes-level function for histograms).\n",
            "  warnings.warn(msg, FutureWarning)\n",
            "/usr/local/lib/python3.6/dist-packages/seaborn/distributions.py:2551: FutureWarning: `distplot` is a deprecated function and will be removed in a future version. Please adapt your code to use either `displot` (a figure-level function with similar flexibility) or `histplot` (an axes-level function for histograms).\n",
            "  warnings.warn(msg, FutureWarning)\n",
            "/usr/local/lib/python3.6/dist-packages/seaborn/distributions.py:2551: FutureWarning: `distplot` is a deprecated function and will be removed in a future version. Please adapt your code to use either `displot` (a figure-level function with similar flexibility) or `histplot` (an axes-level function for histograms).\n",
            "  warnings.warn(msg, FutureWarning)\n",
            "/usr/local/lib/python3.6/dist-packages/seaborn/distributions.py:2551: FutureWarning: `distplot` is a deprecated function and will be removed in a future version. Please adapt your code to use either `displot` (a figure-level function with similar flexibility) or `histplot` (an axes-level function for histograms).\n",
            "  warnings.warn(msg, FutureWarning)\n",
            "/usr/local/lib/python3.6/dist-packages/seaborn/distributions.py:2551: FutureWarning: `distplot` is a deprecated function and will be removed in a future version. Please adapt your code to use either `displot` (a figure-level function with similar flexibility) or `histplot` (an axes-level function for histograms).\n",
            "  warnings.warn(msg, FutureWarning)\n",
            "/usr/local/lib/python3.6/dist-packages/seaborn/distributions.py:2551: FutureWarning: `distplot` is a deprecated function and will be removed in a future version. Please adapt your code to use either `displot` (a figure-level function with similar flexibility) or `histplot` (an axes-level function for histograms).\n",
            "  warnings.warn(msg, FutureWarning)\n",
            "/usr/local/lib/python3.6/dist-packages/seaborn/distributions.py:2551: FutureWarning: `distplot` is a deprecated function and will be removed in a future version. Please adapt your code to use either `displot` (a figure-level function with similar flexibility) or `histplot` (an axes-level function for histograms).\n",
            "  warnings.warn(msg, FutureWarning)\n",
            "/usr/local/lib/python3.6/dist-packages/seaborn/distributions.py:2551: FutureWarning: `distplot` is a deprecated function and will be removed in a future version. Please adapt your code to use either `displot` (a figure-level function with similar flexibility) or `histplot` (an axes-level function for histograms).\n",
            "  warnings.warn(msg, FutureWarning)\n",
            "/usr/local/lib/python3.6/dist-packages/seaborn/distributions.py:2551: FutureWarning: `distplot` is a deprecated function and will be removed in a future version. Please adapt your code to use either `displot` (a figure-level function with similar flexibility) or `histplot` (an axes-level function for histograms).\n",
            "  warnings.warn(msg, FutureWarning)\n"
          ],
          "name": "stderr"
        },
        {
          "output_type": "display_data",
          "data": {
            "image/png": "[encoded data removed]",
            "text/plain": [
              "<Figure size 1080x1440 with 30 Axes>"
            ]
          },
          "metadata": {
            "tags": [],
            "needs_background": "light"
          }
        }
      ]
    },
    {
      "cell_type": "markdown",
      "metadata": {
        "id": "tOtMjcauI5vn"
      },
      "source": [
        "**Model Building**\n",
        "\n",
        "*  Build different models on the imbalanced dataset and see the result\n",
        "\n",
        "\n",
        "\n",
        "\n",
        "\n",
        "\n",
        "\n",
        "\n",
        "\n",
        "\n"
      ]
    },
    {
      "cell_type": "code",
      "metadata": {
        "id": "mHxMJzC5I1UA",
        "outputId": "2f29bb20-bd6c-412f-801f-bae2e6a55afa",
        "colab": {
          "base_uri": "https://localhost:8080/"
        }
      },
      "source": [
        "# Logistic Regression\n",
        "from sklearn import linear_model #import the package\n",
        "from sklearn.linear_model import LogisticRegression\n",
        "from sklearn.model_selection import GridSearchCV, RandomizedSearchCV\n",
        "from sklearn.model_selection import StratifiedKFold, KFold\n",
        "from sklearn.model_selection import cross_val_score\n",
        "from sklearn.metrics import roc_auc_score\n",
        "\n",
        "# To ignore warnings\n",
        "import warnings\n",
        "warnings.filterwarnings(\"ignore\")\n",
        "\n",
        "num_C = {\"penalty\": ['l1', 'l2'], 'C': [0.001, 0.01, 0.1, 1, 10, 100, 1000]}  #--> list of values\n",
        "#cv_num =   #--> list of values\n",
        "\n",
        "grid_log_r = RandomizedSearchCV(LogisticRegression(), num_C)\n",
        "grid_log_r.fit(X_train, y_train)\n",
        "# We automatically get the logistic regression with the best parameters.\n",
        "log_r = grid_log_r.best_estimator_\n",
        "log_r"
      ],
      "execution_count": 22,
      "outputs": [
        {
          "output_type": "execute_result",
          "data": {
            "text/plain": [
              "LogisticRegression(C=1000, class_weight=None, dual=False, fit_intercept=True,\n",
              "                   intercept_scaling=1, l1_ratio=None, max_iter=100,\n",
              "                   multi_class='auto', n_jobs=None, penalty='l2',\n",
              "                   random_state=None, solver='lbfgs', tol=0.0001, verbose=0,\n",
              "                   warm_start=False)"
            ]
          },
          "metadata": {
            "tags": []
          },
          "execution_count": 22
        }
      ]
    },
    {
      "cell_type": "markdown",
      "metadata": {
        "id": "BSoVuP76VPZT"
      },
      "source": [
        "**perfom cross validation on the X_train & y_train to create:**\n",
        "\n",
        "*   X_train_cv\n",
        "*   X_test_cv\n",
        "\n",
        "\n",
        "*   y_train_cv\n",
        "*   y_test_cv\n",
        "\n"
      ]
    },
    {
      "cell_type": "code",
      "metadata": {
        "id": "FhRY-lLkJP6-",
        "outputId": "9cb989f7-31b6-4db9-a789-75489747e79a",
        "colab": {
          "base_uri": "https://localhost:8080/"
        }
      },
      "source": [
        "from sklearn.metrics import roc_curve\n",
        "from sklearn.model_selection import cross_val_predict\n",
        "skfold = StratifiedKFold(n_splits=10, shuffle=True, random_state=42)\n",
        "cv_results = cross_val_score(log_r, X_train, y_train, cv=skfold, scoring='roc_auc')\n",
        "cv_results\n",
        "\n",
        "#perform hyperparameter tuning\n",
        "from sklearn.linear_model import Ridge\n",
        "from sklearn.linear_model import Lasso\n",
        "\n",
        "#print the evaluation result by choosing a evaluation metric\n",
        "\n",
        "#print the optimum value of hyperparameters\n",
        "log_r_pred = cross_val_predict(log_r, X_train, y_train, cv=5,\n",
        "                             method=\"decision_function\")\n",
        "from sklearn.metrics import roc_auc_score\n",
        "\n",
        "print('Logistic Regression: ', roc_auc_score(y_train, log_r_pred))"
      ],
      "execution_count": 23,
      "outputs": [
        {
          "output_type": "stream",
          "text": [
            "Logistic Regression:  0.9765734356089809\n"
          ],
          "name": "stdout"
        }
      ]
    },
    {
      "cell_type": "code",
      "metadata": {
        "id": "bMlJdxbCXDHw",
        "outputId": "2acf67b2-f90c-4231-97ad-983a4e2de9a4",
        "colab": {
          "base_uri": "https://localhost:8080/",
          "height": 522
        }
      },
      "source": [
        "log_fpr, log_tpr, log_thresold = roc_curve(y_train, log_r_pred)\n",
        "\n",
        "def graph_roc_curve(log_fpr, log_tpr):\n",
        "    plt.figure(figsize=(16,8))\n",
        "    plt.title('ROC Curve Logistics Regression', fontsize=18)\n",
        "    plt.plot(log_fpr, log_tpr, label='Logistic Regression Classifier Score: {:.4f}'.format(roc_auc_score(y_train, log_r_pred)))\n",
        "    plt.plot([0, 1], [0, 1], 'k--')\n",
        "    plt.axis([-0.01, 1, 0, 1])\n",
        "    plt.xlabel('False Positive Rate', fontsize=16)\n",
        "    plt.ylabel('True Positive Rate', fontsize=16)\n",
        "    plt.annotate('Minimum ROC Score of 50% \\n (This is the minimum score to get)', xy=(0.5, 0.5), xytext=(0.6, 0.3),\n",
        "                arrowprops=dict(facecolor='#6E726D', shrink=0.05),\n",
        "                )\n",
        "    plt.legend()\n",
        "    \n",
        "graph_roc_curve(log_fpr, log_tpr)\n",
        "plt.show()"
      ],
      "execution_count": 24,
      "outputs": [
        {
          "output_type": "display_data",
          "data": {
            "image/png": "[encoded data removed]",
            "text/plain": [
              "<Figure size 1152x576 with 1 Axes>"
            ]
          },
          "metadata": {
            "tags": [],
            "needs_background": "light"
          }
        }
      ]
    },
    {
      "cell_type": "code",
      "metadata": {
        "id": "hJyZelD0l_Q0",
        "outputId": "89026e71-e8f7-4e9b-e70d-6cc7021f56dd",
        "colab": {
          "base_uri": "https://localhost:8080/"
        }
      },
      "source": [
        "from sklearn.metrics import precision_recall_curve\n",
        "from sklearn.metrics import recall_score, precision_score, f1_score, accuracy_score\n",
        "\n",
        "\n",
        "precision, recall, threshold = precision_recall_curve(y_train, log_r_pred)\n",
        "y_pred = log_r.predict(X_train)\n",
        "\n",
        "# Overfitting Case\n",
        "print('---' * 45)\n",
        "print('Overfitting: \\n')\n",
        "print('Recall Score: {:.2f}'.format(recall_score(y_train, y_pred)))\n",
        "print('Precision Score: {:.2f}'.format(precision_score(y_train, y_pred)))\n",
        "print('F1 Score: {:.2f}'.format(f1_score(y_train, y_pred)))\n",
        "print('Accuracy Score: {:.2f}'.format(accuracy_score(y_train, y_pred)))\n",
        "print('---' * 45)"
      ],
      "execution_count": 25,
      "outputs": [
        {
          "output_type": "stream",
          "text": [
            "---------------------------------------------------------------------------------------------------------------------------------------\n",
            "Overfitting: \n",
            "\n",
            "Recall Score: 0.68\n",
            "Precision Score: 0.91\n",
            "F1 Score: 0.78\n",
            "Accuracy Score: 1.00\n",
            "---------------------------------------------------------------------------------------------------------------------------------------\n"
          ],
          "name": "stdout"
        }
      ]
    },
    {
      "cell_type": "markdown",
      "metadata": {
        "id": "RH6Jb-R3nEoO"
      },
      "source": [
        "**Similarly explore other algorithms by building models like:**\n",
        "\n",
        "KNN\n",
        "SVM\n",
        "Decision Tree\n",
        "Random Forest\n",
        "XGBoost\n",
        "Proceed with the model which shows the best result\n",
        "Apply the best hyperparameter on the model\n",
        "Predict on the test dataset\n",
        "\n",
        "**KNN:-**"
      ]
    },
    {
      "cell_type": "code",
      "metadata": {
        "id": "EVI8vnLbm_Rt",
        "outputId": "73834707-bc97-4558-a625-7bf22c5e1368",
        "colab": {
          "base_uri": "https://localhost:8080/",
          "height": 296
        }
      },
      "source": [
        "#K Nearest neighbour\n",
        "from sklearn.neighbors import KNeighborsClassifier\n",
        "\n",
        "k_range = range(3,7)\n",
        "score1=[]\n",
        "score2=[]\n",
        "for k in k_range:\n",
        "    knn=KNeighborsClassifier(n_neighbors=k)\n",
        "    knn.fit(X_train,y_train)\n",
        "    score1.append(knn.score(X_train,y_train))\n",
        "    score2.append(knn.score(X_test,y_test))\n",
        "    \n",
        "%matplotlib inline\n",
        "plt.plot(k_range,score1,label= 'Accuracy on training set')\n",
        "plt.plot(k_range,score2,label= 'Accuracy on testing set')\n",
        "plt.xlabel('Value of K in KNN')\n",
        "plt.ylabel('Accuracy')\n",
        "plt.legend()"
      ],
      "execution_count": 26,
      "outputs": [
        {
          "output_type": "execute_result",
          "data": {
            "text/plain": [
              "<matplotlib.legend.Legend at 0x7f80b6f975c0>"
            ]
          },
          "metadata": {
            "tags": []
          },
          "execution_count": 26
        },
        {
          "output_type": "display_data",
          "data": {
            "image/png": "[encoded data removed]",
            "text/plain": [
              "<Figure size 432x288 with 1 Axes>"
            ]
          },
          "metadata": {
            "tags": [],
            "needs_background": "light"
          }
        }
      ]
    },
    {
      "cell_type": "code",
      "metadata": {
        "id": "NuQ7X1Qgo5qO",
        "outputId": "afa85735-4e8f-4ee2-eeb7-785a1a8cfb33",
        "colab": {
          "base_uri": "https://localhost:8080/"
        }
      },
      "source": [
        "knn=KNeighborsClassifier(n_neighbors=4)\n",
        "knn.fit(X_train,y_train)\n",
        "print('Accuracy of KNN n=4 on the testing dataset is :{:.3f}'.format(knn.score(X_test,y_test)))"
      ],
      "execution_count": 27,
      "outputs": [
        {
          "output_type": "stream",
          "text": [
            "Accuracy of KNN n=4 on the testing dataset is :0.999\n"
          ],
          "name": "stdout"
        }
      ]
    },
    {
      "cell_type": "markdown",
      "metadata": {
        "id": "MhRx44o2NxPI"
      },
      "source": [
        "**SVM**"
      ]
    },
    {
      "cell_type": "code",
      "metadata": {
        "id": "khwAcWqQ7fef",
        "outputId": "1691f280-319f-43b7-ff39-5d23f492660b",
        "colab": {
          "base_uri": "https://localhost:8080/",
          "height": 522
        }
      },
      "source": [
        "# Model building\n",
        "from sklearn.svm import SVC\n",
        "# instantiate an object of class SVC()\n",
        "# note that we are using cost C=1\n",
        "model = SVC(C = 1)\n",
        "\n",
        "# fit\n",
        "model.fit(X_train, y_train)\n",
        "\n",
        "# predict\n",
        "y_pred = model.predict(X_test)\n",
        "    \n",
        "graph_roc_curve(log_fpr, log_tpr)\n",
        "plt.show()"
      ],
      "execution_count": 28,
      "outputs": [
        {
          "output_type": "display_data",
          "data": {
            "image/png": "[encoded data removed]",
            "text/plain": [
              "<Figure size 1152x576 with 1 Axes>"
            ]
          },
          "metadata": {
            "tags": [],
            "needs_background": "light"
          }
        }
      ]
    },
    {
      "cell_type": "code",
      "metadata": {
        "id": "LayZ6-7GN3Y_",
        "outputId": "5beb63b7-329a-400e-b7ef-9e8ddb347f6e",
        "colab": {
          "base_uri": "https://localhost:8080/"
        }
      },
      "source": [
        "# Evaluate the model using confusion matrix \n",
        "from sklearn import metrics\n",
        "metrics.confusion_matrix(y_true=y_test, y_pred=y_pred)"
      ],
      "execution_count": 29,
      "outputs": [
        {
          "output_type": "execute_result",
          "data": {
            "text/plain": [
              "array([[85288,    13],\n",
              "       [   48,    94]])"
            ]
          },
          "metadata": {
            "tags": []
          },
          "execution_count": 29
        }
      ]
    },
    {
      "cell_type": "code",
      "metadata": {
        "id": "CXY6nzNUN9cM",
        "outputId": "0c3d8ba7-3f91-46f1-96c3-9aef57787e5a",
        "colab": {
          "base_uri": "https://localhost:8080/"
        }
      },
      "source": [
        "# print other metrics\n",
        "\n",
        "# accuracy\n",
        "print(\"accuracy\", metrics.accuracy_score(y_test, y_pred))\n",
        "\n",
        "# precision\n",
        "print(\"precision\", metrics.precision_score(y_test, y_pred))\n",
        "\n",
        "# recall/sensitivity\n",
        "print(\"recall\", metrics.recall_score(y_test, y_pred))"
      ],
      "execution_count": 30,
      "outputs": [
        {
          "output_type": "stream",
          "text": [
            "accuracy 0.9992860737567735\n",
            "precision 0.8785046728971962\n",
            "recall 0.6619718309859155\n"
          ],
          "name": "stdout"
        }
      ]
    },
    {
      "cell_type": "code",
      "metadata": {
        "id": "1cWh-CeZOAyf",
        "outputId": "1d5d78c6-296f-4500-ce84-f67203781532",
        "colab": {
          "base_uri": "https://localhost:8080/"
        }
      },
      "source": [
        "# specificity (% of hams correctly classified)\n",
        "print(\"specificity\", 85288/(85288+13))"
      ],
      "execution_count": 31,
      "outputs": [
        {
          "output_type": "stream",
          "text": [
            "specificity 0.9998475985041207\n"
          ],
          "name": "stdout"
        }
      ]
    },
    {
      "cell_type": "markdown",
      "metadata": {
        "id": "J83SaJYqOZ9p"
      },
      "source": [
        "The SVM we have built so far gives decently good results - an accuracy of 99%, sensitivity/recall (TNR) of 66%.\n",
        "\n",
        "Interpretation of Results\n",
        "In the confusion matrix, the elements at (0, 0) and (1,1) correspond to the more frequently occurring class, i.e. ham emails. Thus, it implies that:\n",
        "\n",
        "87.8% of all emails are classified correctly\n",
        "66.2% of spams are identified correctly (sensitivity/recall)\n",
        "Specificity, or % of hams classified correctly, is 99.8%"
      ]
    },
    {
      "cell_type": "markdown",
      "metadata": {
        "id": "ErjwxiRgOzpl"
      },
      "source": [
        "**Random Forest**"
      ]
    },
    {
      "cell_type": "code",
      "metadata": {
        "id": "Rhonp6a_OWmR"
      },
      "source": [
        "from sklearn.ensemble import RandomForestClassifier\n",
        "# rfc = RandomForestClassifier()"
      ],
      "execution_count": 32,
      "outputs": []
    },
    {
      "cell_type": "code",
      "metadata": {
        "id": "0j9ZVDj6Ox3j"
      },
      "source": [
        "# Create the parameter grid based on the results of random search \n",
        "param_grid = {\n",
        "    'max_depth': [4,8,10],\n",
        "    'min_samples_leaf': range(100, 400, 200),\n",
        "    'min_samples_split': range(200, 500, 200),\n",
        "    'n_estimators': [100,200, 300], \n",
        "    'max_features': [5, 10]\n",
        "}\n",
        "# Create a based model\n",
        "rf = RandomForestClassifier()\n",
        "# Instantiate the grid search model\n",
        "grid_search = GridSearchCV(estimator = rf, param_grid = param_grid, \n",
        "                          cv = 3, n_jobs = -1,verbose = 1)"
      ],
      "execution_count": 33,
      "outputs": []
    },
    {
      "cell_type": "code",
      "metadata": {
        "id": "EoYuyyeWO-0X",
        "outputId": "5d2a72dc-6344-422a-e431-60c0f4bfc695",
        "colab": {
          "base_uri": "https://localhost:8080/"
        }
      },
      "source": [
        "# fit\n",
        "grid_search.fit(X_train,y_train)"
      ],
      "execution_count": null,
      "outputs": [
        {
          "output_type": "stream",
          "text": [
            "Fitting 3 folds for each of 72 candidates, totalling 216 fits\n"
          ],
          "name": "stdout"
        },
        {
          "output_type": "stream",
          "text": [
            "[Parallel(n_jobs=-1)]: Using backend LokyBackend with 2 concurrent workers.\n"
          ],
          "name": "stderr"
        }
      ]
    },
    {
      "cell_type": "code",
      "metadata": {
        "id": "UfhyeghFPF14"
      },
      "source": [
        "# printing the optimal accuracy score and hyperparameters\n",
        "print('We can get accuracy of',grid_search.best_score_,'using',grid_search.best_params_)"
      ],
      "execution_count": null,
      "outputs": []
    },
    {
      "cell_type": "markdown",
      "metadata": {
        "id": "jSchXdDSRdkr"
      },
      "source": [
        "# **Hyperparameter Tuning**"
      ]
    },
    {
      "cell_type": "code",
      "metadata": {
        "id": "S23h7fjCRh_k"
      },
      "source": [
        "help(metrics.confusion_matrix)"
      ],
      "execution_count": null,
      "outputs": []
    },
    {
      "cell_type": "markdown",
      "metadata": {
        "id": "utoz2QmZRpYH"
      },
      "source": [
        "**K-Fold Cross Validation**\n",
        "\n",
        "Let's first run a simple k-fold cross validation to get a sense of the average metrics as computed over multiple folds. the easiest way to do cross-validation is to use the cross_val_score() function."
      ]
    },
    {
      "cell_type": "code",
      "metadata": {
        "id": "wxuYeqOzRuaH"
      },
      "source": [
        "# creating a KFold object with 5 splits \n",
        "folds = KFold(n_splits = 5, shuffle = True, random_state = 4)\n",
        "\n",
        "# instantiating a model with cost=1\n",
        "model = SVC(C = 1)"
      ],
      "execution_count": null,
      "outputs": []
    },
    {
      "cell_type": "code",
      "metadata": {
        "id": "g-jh2oG9SUcQ"
      },
      "source": [
        "# computing the cross-validation scores \n",
        "# note that the argument cv takes the 'folds' object, and\n",
        "# we have specified 'accuracy' as the metric\n",
        "\n",
        "cv_results = cross_val_score(model, X_train, y_train, cv = folds, scoring = 'accuracy') "
      ],
      "execution_count": null,
      "outputs": []
    },
    {
      "cell_type": "code",
      "metadata": {
        "id": "g3wVYoXjWr6j"
      },
      "source": [
        "# print 5 accuracies obtained from the 5 folds\n",
        "print(cv_results)\n",
        "print(\"mean accuracy = {}\".format(cv_results.mean()))"
      ],
      "execution_count": null,
      "outputs": []
    },
    {
      "cell_type": "markdown",
      "metadata": {
        "id": "IuUNGfkNZS0h"
      },
      "source": [
        "**Grid Search to Find Optimal Hyperparameter C**\n",
        "\n",
        "K-fold CV helps us compute average metrics over multiple folds, and that is the best indication of the 'test accuracy/other metric scores' we can have.\n",
        "\n",
        "But we want to use CV to compute the optimal values of hyperparameters (in this case, the cost C is a hyperparameter). This is done using the GridSearchCV() method, which computes metrics (such as accuracy, recall etc.)\n",
        "\n",
        "In this case, we have only one hyperparameter, though you can have multiple, such as C and gamma in non-linear SVMs. In that case, you need to search through a grid of multiple values of C and gamma to find the optimal combination, and hence the name GridSearchCV."
      ]
    },
    {
      "cell_type": "code",
      "metadata": {
        "id": "0m-zClohZaoU"
      },
      "source": [
        "# specify range of parameters (C) as a list\n",
        "from sklearn.model_selection import GridSearchCV\n",
        "params = {\"C\": [0.1, 1, 10, 100, 1000]}\n",
        "\n",
        "model = SVC()\n",
        "\n",
        "# set up grid search scheme\n",
        "# note that we are still using the 5 fold CV scheme we set up earlier\n",
        "model_cv = GridSearchCV(estimator = model, param_grid = params, \n",
        "                        scoring= 'accuracy', \n",
        "                        cv = folds, \n",
        "                        verbose = 1,\n",
        "                       return_train_score=True)    "
      ],
      "execution_count": null,
      "outputs": []
    },
    {
      "cell_type": "code",
      "metadata": {
        "id": "vVO-A12naDDA"
      },
      "source": [
        "# fit the model - it will fit 5 folds across all values of C\n",
        "model_cv.fit(X_train, y_train)"
      ],
      "execution_count": null,
      "outputs": []
    },
    {
      "cell_type": "code",
      "metadata": {
        "id": "Es2Y5QXiaHte"
      },
      "source": [
        "# results of grid search CV\n",
        "cv_results = pd.DataFrame(model_cv.cv_results_)\n",
        "cv_results"
      ],
      "execution_count": null,
      "outputs": []
    },
    {
      "cell_type": "code",
      "metadata": {
        "id": "2cUZjEGma-Mu"
      },
      "source": [
        "# plot of C versus train and test scores\n",
        "\n",
        "plt.figure(figsize=(8, 6))\n",
        "plt.plot(cv_results['param_C'], cv_results['mean_test_score'])\n",
        "plt.plot(cv_results['param_C'], cv_results['mean_train_score'])\n",
        "plt.xlabel('C')\n",
        "plt.ylabel('Accuracy')\n",
        "plt.legend(['test accuracy', 'train accuracy'], loc='upper left')\n",
        "plt.xscale('log')"
      ],
      "execution_count": null,
      "outputs": []
    },
    {
      "cell_type": "code",
      "metadata": {
        "id": "NoCg0QqUdRLS"
      },
      "source": [
        "# metrics\n",
        "# print other metrics\n",
        "\n",
        "# accuracy\n",
        "print(\"accuracy\", metrics.accuracy_score(y_test, y_pred))\n",
        "\n",
        "# precision\n",
        "print(\"precision\", metrics.precision_score(y_test, y_pred))\n",
        "\n",
        "# recall/sensitivity\n",
        "print(\"recall\", metrics.recall_score(y_test, y_pred))"
      ],
      "execution_count": null,
      "outputs": []
    },
    {
      "cell_type": "code",
      "metadata": {
        "id": "2fUbSLCNe-bC"
      },
      "source": [
        ""
      ],
      "execution_count": null,
      "outputs": []
    },
    {
      "cell_type": "markdown",
      "metadata": {
        "id": "DLlIfVwLfAzx"
      },
      "source": [
        "**Optimising for Other Evaluation Metrics**\n",
        "\n",
        "In this case, we had optimised (tuned) the model based on overall accuracy, though that may not always be the best metric to optimise. For example, if you are concerned more about catching all spams (positives), you may want to maximise TPR or sensitivity/recall. If, on the other hand, you want to avoid classifying hams as spams (so that any important mails don't get into the spam box), you would maximise the TNR or specificity."
      ]
    },
    {
      "cell_type": "code",
      "metadata": {
        "id": "1Q2tylw6gOv2"
      },
      "source": [
        "# specify params\n",
        "params = {\"C\": [0.1, 1, 10, 100, 1000]}\n",
        "\n",
        "# specify scores/metrics in an iterable\n",
        "scores = ['accuracy', 'precision', 'recall']\n",
        "\n",
        "for score in scores:\n",
        "    print(\"# Tuning hyper-parameters for {}\".format(score))\n",
        "    \n",
        "    # set up GridSearch for score metric\n",
        "    clf = GridSearchCV(SVC(), \n",
        "                       params, \n",
        "                       cv=folds,\n",
        "                       scoring=score,\n",
        "                       return_train_score=True)\n",
        "    # fit\n",
        "    clf.fit(X_train, y_train)\n",
        "\n",
        "    print(\" The highest {0} score is {1} at C = {2}\".format(score, clf.best_score_, clf.best_params_))\n",
        "    print(\"\\n\")"
      ],
      "execution_count": null,
      "outputs": []
    },
    {
      "cell_type": "markdown",
      "metadata": {
        "id": "ZMjV-tszgZ-3"
      },
      "source": [
        "**XGBOOST**"
      ]
    },
    {
      "cell_type": "markdown",
      "metadata": {
        "id": "a0ToZ7_9ghh0"
      },
      "source": [
        "**Finding the best k in KNN**"
      ]
    },
    {
      "cell_type": "code",
      "metadata": {
        "id": "wwpTSZYQgYTO"
      },
      "source": [
        "# X_train,X_test,y_train,y_test =train_test_split(cancer.data,cancer.target, stratify=cancer.target, random_state=66)\n",
        "from xgboost import XGBClassifier\n",
        "tree_range = range(2, 30, 5)\n",
        "score1=[]\n",
        "score2=[]\n",
        "for tree in tree_range:\n",
        "    xgb=XGBClassifier(n_estimators=tree)\n",
        "    xgb.fit(X_train,y_train)\n",
        "    score1.append(xgb.score(X_train,y_train))\n",
        "    score2.append(xgb.score(X_test,y_test))\n",
        "    \n",
        "%matplotlib inline\n",
        "plt.plot(tree_range,score1,label= 'Accuracy on training set')\n",
        "plt.plot(tree_range,score2,label= 'Accuracy on testing set')\n",
        "plt.xlabel('Value of number of trees in XGboost')\n",
        "plt.ylabel('Accuracy')\n",
        "plt.legend()"
      ],
      "execution_count": null,
      "outputs": []
    },
    {
      "cell_type": "markdown",
      "metadata": {
        "id": "s8MESuZ8kwK5"
      },
      "source": [
        "**DECISION TREE**"
      ]
    },
    {
      "cell_type": "code",
      "metadata": {
        "id": "iYdaZCFgkugF"
      },
      "source": [
        "dt_default = DecisionTreeClassifier(max_depth=3)\n",
        "dt_default.fit(X_train,y_train)"
      ],
      "execution_count": null,
      "outputs": []
    },
    {
      "cell_type": "code",
      "metadata": {
        "id": "E6V35yUopF2z"
      },
      "source": [
        ""
      ],
      "execution_count": null,
      "outputs": []
    },
    {
      "cell_type": "markdown",
      "metadata": {
        "id": "1fRzyMI9pHzC"
      },
      "source": [
        "**Print the important features of the best model to understand the dataset**\n",
        "\n",
        "This will not give much explanation on the already transformed dataset\n",
        "But it will help us in understanding if the dataset is not PCA transformed"
      ]
    },
    {
      "cell_type": "code",
      "metadata": {
        "id": "j2out6qEpMTP"
      },
      "source": [
        "var_imp = []\n",
        "for i in clf.feature_importances_:\n",
        "    var_imp.append(i)\n",
        "print('Top var =', var_imp.index(np.sort(clf.feature_importances_)[-1])+1)\n",
        "print('2nd Top var =', var_imp.index(np.sort(clf.feature_importances_)[-2])+1)\n",
        "print('3rd Top var =', var_imp.index(np.sort(clf.feature_importances_)[-3])+1)\n",
        "\n",
        "# Variable on Index-16 and Index-13 seems to be the top 2 variables\n",
        "top_var_index = var_imp.index(np.sort(clf.feature_importances_)[-1])\n",
        "second_top_var_index = var_imp.index(np.sort(clf.feature_importances_)[-2])\n",
        "\n",
        "X_train_1 = X_train.to_numpy()[np.where(y_train==1.0)]\n",
        "X_train_0 = X_train.to_numpy()[np.where(y_train==0.0)]\n",
        "\n",
        "np.random.shuffle(X_train_0)\n",
        "\n",
        "import matplotlib.pyplot as plt\n",
        "%matplotlib inline\n",
        "plt.rcParams['figure.figsize'] = [20, 20]\n",
        "\n",
        "plt.scatter(X_train_1[:, top_var_index], X_train_1[:, second_top_var_index], label='Actual Class-1 Examples')\n",
        "plt.scatter(X_train_0[:X_train_1.shape[0], top_var_index], X_train_0[:X_train_1.shape[0], second_top_var_index],\n",
        "            label='Actual Class-0 Examples')\n",
        "plt.legend()"
      ],
      "execution_count": null,
      "outputs": []
    },
    {
      "cell_type": "markdown",
      "metadata": {
        "id": "Rqlu8nVn1Hy7"
      },
      "source": [
        "**perfom cross validation on the X_train & y_train to create:**\n",
        "\n",
        "X_train_cv\n",
        "\n",
        "X_test_cv\n",
        "\n",
        "y_train_cv\n",
        "\n",
        "y_test_cv"
      ]
    },
    {
      "cell_type": "markdown",
      "metadata": {
        "id": "y3S98J0-7mVt"
      },
      "source": [
        "**Ramdom Oversampling**"
      ]
    },
    {
      "cell_type": "code",
      "metadata": {
        "id": "Q25p11mCsmbl"
      },
      "source": [
        "from imblearn import over_sampling"
      ],
      "execution_count": null,
      "outputs": []
    },
    {
      "cell_type": "code",
      "metadata": {
        "id": "JoB6xn4B1Pgm"
      },
      "source": [
        "undersample_X = X\n",
        "undersample_y = y\n",
        "\n",
        "X_train = X_train.values\n",
        "X_test = X_test.values\n",
        "y_train = y_train.values\n",
        "y_test = y_test.values\n",
        "\n",
        "classifiers = {\n",
        "    \"LogisiticRegression\": LogisticRegression(),\n",
        "    \"KNearest\": KNeighborsClassifier(),\n",
        "    \"Support Vector Classifier\": SVC(),\n",
        "    \"DecisionTreeClassifier\": DecisionTreeClassifier()\n",
        "}"
      ],
      "execution_count": null,
      "outputs": []
    },
    {
      "cell_type": "code",
      "metadata": {
        "id": "TQ1_6faQ_6f5"
      },
      "source": [
        "for train_index, test_index in sss.split(undersample_X, undersample_y):\n",
        "    print(\"Train:\", train_index, \"Test:\", test_index)\n",
        "    undersample_Xtrain, undersample_Xtest = undersample_X.iloc[train_index], undersample_X.iloc[test_index]\n",
        "    undersample_ytrain, undersample_ytest = undersample_y.iloc[train_index], undersample_y.iloc[test_index]\n",
        "    \n",
        "undersample_Xtrain = undersample_Xtrain.values\n",
        "undersample_Xtest = undersample_Xtest.values\n",
        "undersample_ytrain = undersample_ytrain.values\n",
        "undersample_ytest = undersample_ytest.values \n",
        "\n",
        "undersample_accuracy = []\n",
        "undersample_precision = []\n",
        "undersample_recall = []\n",
        "undersample_f1 = []\n",
        "undersample_auc = []\n",
        "\n",
        "# Implementing NearMiss Technique \n",
        "# Distribution of NearMiss (Just to see how it distributes the labels we won't use these variables)\n",
        "X_nearmiss, y_nearmiss = NearMiss().fit_sample(undersample_X.values, undersample_y.values)\n",
        "print('NearMiss Label Distribution: {}'.format(Counter(y_nearmiss)))\n",
        "\n",
        "# Cross Validating the right way\n",
        "\n",
        "for train, test in sss.split(undersample_Xtrain, undersample_ytrain):\n",
        "    undersample_pipeline = imbalanced_make_pipeline(NearMiss(sampling_strategy='majority'), log_reg) # SMOTE happens during Cross Validation not before..\n",
        "    undersample_model = undersample_pipeline.fit(undersample_Xtrain[train], undersample_ytrain[train])\n",
        "    undersample_prediction = undersample_model.predict(undersample_Xtrain[test])\n",
        "    \n",
        "    undersample_accuracy.append(undersample_pipeline.score(original_Xtrain[test], original_ytrain[test]))\n",
        "    undersample_precision.append(precision_score(original_ytrain[test], undersample_prediction))\n",
        "    undersample_recall.append(recall_score(original_ytrain[test], undersample_prediction))\n",
        "    undersample_f1.append(f1_score(original_ytrain[test], undersample_prediction))\n",
        "    undersample_auc.append(roc_auc_score(original_ytrain[test], undersample_prediction))"
      ],
      "execution_count": null,
      "outputs": []
    },
    {
      "cell_type": "code",
      "metadata": {
        "id": "K4Q5HPRaK254"
      },
      "source": [
        " #Let's Plot LogisticRegression Learning Curve\n",
        "from sklearn.model_selection import ShuffleSplit\n",
        "from sklearn.model_selection import learning_curve\n",
        "\n",
        "def plot_learning_curve(estimator1, estimator2, estimator3, estimator4, X, y, ylim=None, cv=None,\n",
        "                        n_jobs=1, train_sizes=np.linspace(.1, 1.0, 5)):\n",
        "    f, ((ax1, ax2), (ax3, ax4)) = plt.subplots(2,2, figsize=(20,14), sharey=True)\n",
        "    if ylim is not None:\n",
        "        plt.ylim(*ylim)\n",
        "    # First Estimator\n",
        "    train_sizes, train_scores, test_scores = learning_curve(\n",
        "        estimator1, X, y, cv=cv, n_jobs=n_jobs, train_sizes=train_sizes)\n",
        "    train_scores_mean = np.mean(train_scores, axis=1)\n",
        "    train_scores_std = np.std(train_scores, axis=1)\n",
        "    test_scores_mean = np.mean(test_scores, axis=1)\n",
        "    test_scores_std = np.std(test_scores, axis=1)\n",
        "    ax1.fill_between(train_sizes, train_scores_mean - train_scores_std,\n",
        "                     train_scores_mean + train_scores_std, alpha=0.1,\n",
        "                     color=\"#ff9124\")\n",
        "    ax1.fill_between(train_sizes, test_scores_mean - test_scores_std,\n",
        "                     test_scores_mean + test_scores_std, alpha=0.1, color=\"#2492ff\")\n",
        "    ax1.plot(train_sizes, train_scores_mean, 'o-', color=\"#ff9124\",\n",
        "             label=\"Training score\")\n",
        "    ax1.plot(train_sizes, test_scores_mean, 'o-', color=\"#2492ff\",\n",
        "             label=\"Cross-validation score\")\n",
        "    ax1.set_title(\"Logistic Regression Learning Curve\", fontsize=14)\n",
        "    ax1.set_xlabel('Training size (m)')\n",
        "    ax1.set_ylabel('Score')\n",
        "    ax1.grid(True)\n",
        "    ax1.legend(loc=\"best\")\n",
        "\n",
        "    # Second Estimator \n",
        "    train_sizes, train_scores, test_scores = learning_curve(\n",
        "        estimator2, X, y, cv=cv, n_jobs=n_jobs, train_sizes=train_sizes)\n",
        "    train_scores_mean = np.mean(train_scores, axis=1)\n",
        "    train_scores_std = np.std(train_scores, axis=1)\n",
        "    test_scores_mean = np.mean(test_scores, axis=1)\n",
        "    test_scores_std = np.std(test_scores, axis=1)\n",
        "    ax2.fill_between(train_sizes, train_scores_mean - train_scores_std,\n",
        "                     train_scores_mean + train_scores_std, alpha=0.1,\n",
        "                     color=\"#ff9124\")\n",
        "    ax2.fill_between(train_sizes, test_scores_mean - test_scores_std,\n",
        "                     test_scores_mean + test_scores_std, alpha=0.1, color=\"#2492ff\")\n",
        "    ax2.plot(train_sizes, train_scores_mean, 'o-', color=\"#ff9124\",\n",
        "             label=\"Training score\")\n",
        "    ax2.plot(train_sizes, test_scores_mean, 'o-', color=\"#2492ff\",\n",
        "             label=\"Cross-validation score\")\n",
        "    ax2.set_title(\"Knears Neighbors Learning Curve\", fontsize=14)\n",
        "    ax2.set_xlabel('Training size (m)')\n",
        "    ax2.set_ylabel('Score')\n",
        "    ax2.grid(True)\n",
        "    ax2.legend(loc=\"best\")\n",
        "    \n",
        "    # Third Estimator\n",
        "    train_sizes, train_scores, test_scores = learning_curve(\n",
        "        estimator3, X, y, cv=cv, n_jobs=n_jobs, train_sizes=train_sizes)\n",
        "    train_scores_mean = np.mean(train_scores, axis=1)\n",
        "    train_scores_std = np.std(train_scores, axis=1)\n",
        "    test_scores_mean = np.mean(test_scores, axis=1)\n",
        "    test_scores_std = np.std(test_scores, axis=1)\n",
        "    ax3.fill_between(train_sizes, train_scores_mean - train_scores_std,\n",
        "                     train_scores_mean + train_scores_std, alpha=0.1,\n",
        "                     color=\"#ff9124\")\n",
        "    ax3.fill_between(train_sizes, test_scores_mean - test_scores_std,\n",
        "                     test_scores_mean + test_scores_std, alpha=0.1, color=\"#2492ff\")\n",
        "    ax3.plot(train_sizes, train_scores_mean, 'o-', color=\"#ff9124\",\n",
        "             label=\"Training score\")\n",
        "    ax3.plot(train_sizes, test_scores_mean, 'o-', color=\"#2492ff\",\n",
        "             label=\"Cross-validation score\")\n",
        "    ax3.set_title(\"Support Vector Classifier \\n Learning Curve\", fontsize=14)\n",
        "    ax3.set_xlabel('Training size (m)')\n",
        "    ax3.set_ylabel('Score')\n",
        "    ax3.grid(True)\n",
        "    ax3.legend(loc=\"best\")\n",
        "    \n",
        "    # Fourth Estimator\n",
        "    train_sizes, train_scores, test_scores = learning_curve(\n",
        "        estimator4, X, y, cv=cv, n_jobs=n_jobs, train_sizes=train_sizes)\n",
        "    train_scores_mean = np.mean(train_scores, axis=1)\n",
        "    train_scores_std = np.std(train_scores, axis=1)\n",
        "    test_scores_mean = np.mean(test_scores, axis=1)\n",
        "    test_scores_std = np.std(test_scores, axis=1)\n",
        "    ax4.fill_between(train_sizes, train_scores_mean - train_scores_std,\n",
        "                     train_scores_mean + train_scores_std, alpha=0.1,\n",
        "                     color=\"#ff9124\")\n",
        "    ax4.fill_between(train_sizes, test_scores_mean - test_scores_std,\n",
        "                     test_scores_mean + test_scores_std, alpha=0.1, color=\"#2492ff\")\n",
        "    ax4.plot(train_sizes, train_scores_mean, 'o-', color=\"#ff9124\",\n",
        "             label=\"Training score\")\n",
        "    ax4.plot(train_sizes, test_scores_mean, 'o-', color=\"#2492ff\",\n",
        "             label=\"Cross-validation score\")\n",
        "    ax4.set_title(\"Decision Tree Classifier \\n Learning Curve\", fontsize=14)\n",
        "    ax4.set_xlabel('Training size (m)')\n",
        "    ax4.set_ylabel('Score')\n",
        "    ax4.grid(True)\n",
        "    ax4.legend(loc=\"best\")\n",
        "    return plt"
      ],
      "execution_count": null,
      "outputs": []
    },
    {
      "cell_type": "code",
      "metadata": {
        "id": "MDTJrFE2LOxa"
      },
      "source": [
        "cv = ShuffleSplit(n_splits=100, test_size=0.2, random_state=42)\n",
        "plot_learning_curve(log_reg, knears_neighbors, svc, tree_clf, X_train, y_train, (0.87, 1.01), cv=cv, n_jobs=4)"
      ],
      "execution_count": null,
      "outputs": []
    },
    {
      "cell_type": "code",
      "metadata": {
        "id": "XtDquiHNLVJY"
      },
      "source": [
        "from sklearn.metrics import roc_curve\n",
        "from sklearn.model_selection import cross_val_predict\n",
        "# Create a DataFrame with all the scores and the classifiers names.\n",
        "\n",
        "log_reg_pred = cross_val_predict(log_reg, X_train, y_train, cv=5,\n",
        "                             method=\"decision_function\")\n",
        "\n",
        "knears_pred = cross_val_predict(knears_neighbors, X_train, y_train, cv=5)\n",
        "\n",
        "svc_pred = cross_val_predict(svc, X_train, y_train, cv=5,\n",
        "                             method=\"decision_function\")\n",
        "\n",
        "tree_pred = cross_val_predict(tree_clf, X_train, y_train, cv=5)"
      ],
      "execution_count": null,
      "outputs": []
    },
    {
      "cell_type": "code",
      "metadata": {
        "id": "zBNJmepHLZE3"
      },
      "source": [
        "from sklearn.metrics import roc_auc_score\n",
        "\n",
        "print('Logistic Regression: ', roc_auc_score(y_train, log_reg_pred))\n",
        "print('KNears Neighbors: ', roc_auc_score(y_train, knears_pred))\n",
        "print('Support Vector Classifier: ', roc_auc_score(y_train, svc_pred))\n",
        "print('Decision Tree Classifier: ', roc_auc_score(y_train, tree_pred))"
      ],
      "execution_count": null,
      "outputs": []
    },
    {
      "cell_type": "code",
      "metadata": {
        "id": "W6y89a5aLeJB"
      },
      "source": [
        "log_fpr, log_tpr, log_thresold = roc_curve(y_train, log_reg_pred)\n",
        "knear_fpr, knear_tpr, knear_threshold = roc_curve(y_train, knears_pred)\n",
        "svc_fpr, svc_tpr, svc_threshold = roc_curve(y_train, svc_pred)\n",
        "tree_fpr, tree_tpr, tree_threshold = roc_curve(y_train, tree_pred)\n",
        "\n",
        "\n",
        "def graph_roc_curve_multiple(log_fpr, log_tpr, knear_fpr, knear_tpr, svc_fpr, svc_tpr, tree_fpr, tree_tpr):\n",
        "    plt.figure(figsize=(16,8))\n",
        "    plt.title('ROC Curve \\n Top 4 Classifiers', fontsize=18)\n",
        "    plt.plot(log_fpr, log_tpr, label='Logistic Regression Classifier Score: {:.4f}'.format(roc_auc_score(y_train, log_reg_pred)))\n",
        "    plt.plot(knear_fpr, knear_tpr, label='KNears Neighbors Classifier Score: {:.4f}'.format(roc_auc_score(y_train, knears_pred)))\n",
        "    plt.plot(svc_fpr, svc_tpr, label='Support Vector Classifier Score: {:.4f}'.format(roc_auc_score(y_train, svc_pred)))\n",
        "    plt.plot(tree_fpr, tree_tpr, label='Decision Tree Classifier Score: {:.4f}'.format(roc_auc_score(y_train, tree_pred)))\n",
        "    plt.plot([0, 1], [0, 1], 'k--')\n",
        "    plt.axis([-0.01, 1, 0, 1])\n",
        "    plt.xlabel('False Positive Rate', fontsize=16)\n",
        " plt.ylabel('True Positive Rate', fontsize=16)\n",
        "    plt.annotate('Minimum ROC Score of 50% \\n (This is the minimum score to get)', xy=(0.5, 0.5), xytext=(0.6, 0.3),\n",
        "                arrowprops=dict(facecolor='#6E726D', shrink=0.05),\n",
        "                )\n",
        "    plt.legend()\n",
        "    \n",
        "graph_roc_curve_multiple(log_fpr, log_tpr, knear_fpr, knear_tpr, svc_fpr, svc_tpr, tree_fpr, tree_tpr)\n",
        "plt.show()"
      ],
      "execution_count": null,
      "outputs": []
    },
    {
      "cell_type": "code",
      "metadata": {
        "id": "aFNpf_n2Ls6J"
      },
      "source": [
        "def logistic_roc_curve(log_fpr, log_tpr):\n",
        "    plt.figure(figsize=(12,8))\n",
        "    plt.title('Logistic Regression ROC Curve', fontsize=16)\n",
        "    plt.plot(log_fpr, log_tpr, 'b-', linewidth=2)\n",
        "    plt.plot([0, 1], [0, 1], 'r--')\n",
        "    plt.xlabel('False Positive Rate', fontsize=16)\n",
        "    plt.ylabel('True Positive Rate', fontsize=16)\n",
        "    plt.axis([-0.01,1,0,1])\n",
        "    \n",
        "    \n",
        "logistic_roc_curve(log_fpr, log_tpr)\n",
        "plt.show()"
      ],
      "execution_count": null,
      "outputs": []
    },
    {
      "cell_type": "code",
      "metadata": {
        "id": "kHtPvujZLy7h"
      },
      "source": [
        "from sklearn.metrics import precision_recall_curve\n",
        "\n",
        "precision, recall, threshold = precision_recall_curve(y_train, log_reg_pred)"
      ],
      "execution_count": null,
      "outputs": []
    },
    {
      "cell_type": "code",
      "metadata": {
        "id": "-p9ZnbriL4CO"
      },
      "source": [
        "from sklearn.metrics import recall_score, precision_score, f1_score, accuracy_score\n",
        "y_pred = log_reg.predict(X_train)\n",
        "\n",
        "# Overfitting Case\n",
        "print('---' * 45)\n",
        "print('Overfitting: \\n')\n",
        "print('Recall Score: {:.2f}'.format(recall_score(y_train, y_pred)))\n",
        "print('Precision Score: {:.2f}'.format(precision_score(y_train, y_pred)))\n",
        "print('F1 Score: {:.2f}'.format(f1_score(y_train, y_pred)))\n",
        "print('Accuracy Score: {:.2f}'.format(accuracy_score(y_train, y_pred)))\n",
        "print('---' * 45)\n",
        "\n",
        "# How it should look like\n",
        "print('---' * 45)\n",
        "print('How it should be:\\n')\n",
        "print(\"Accuracy Score: {:.2f}\".format(np.mean(undersample_accuracy)))\n",
        "print(\"Precision Score: {:.2f}\".format(np.mean(undersample_precision)))\n",
        "print(\"Recall Score: {:.2f}\".format(np.mean(undersample_recall)))\n",
        "print(\"F1 Score: {:.2f}\".format(np.mean(undersample_f1)))\n",
        "print('---' * 45)"
      ],
      "execution_count": null,
      "outputs": []
    },
    {
      "cell_type": "code",
      "metadata": {
        "id": "j6ZyVZyPL7_B"
      },
      "source": [
        "undersample_y_score = log_reg.decision_function(original_Xtest)"
      ],
      "execution_count": null,
      "outputs": []
    },
    {
      "cell_type": "code",
      "metadata": {
        "id": "uHd6YQnEMAc-"
      },
      "source": [
        "from sklearn.metrics import average_precision_score\n",
        "\n",
        "undersample_average_precision = average_precision_score(original_ytest, undersample_y_score)\n",
        "\n",
        "print('Average precision-recall score: {0:0.2f}'.format(\n",
        "      undersample_average_precision))"
      ],
      "execution_count": null,
      "outputs": []
    },
    {
      "cell_type": "code",
      "metadata": {
        "id": "C7LvsPhkME24"
      },
      "source": [
        "from sklearn.metrics import precision_recall_curve\n",
        "import matplotlib.pyplot as plt\n",
        "\n",
        "fig = plt.figure(figsize=(12,6))\n",
        "\n",
        "precision, recall, _ = precision_recall_curve(original_ytest, undersample_y_score)\n",
        "\n",
        "plt.step(recall, precision, color='#004a93', alpha=0.2,\n",
        "         where='post')\n",
        "plt.fill_between(recall, precision, step='post', alpha=0.2,\n",
        "                 color='#48a6ff')\n",
        "\n",
        "plt.xlabel('Recall')\n",
        "plt.ylabel('Precision')\n",
        "plt.ylim([0.0, 1.05])\n",
        "plt.xlim([0.0, 1.0])\n",
        "plt.title('UnderSampling Precision-Recall curve: \\n Average Precision-Recall Score ={0:0.2f}'.format(\n",
        "          undersample_average_precision), fontsize=16)"
      ],
      "execution_count": null,
      "outputs": []
    },
    {
      "cell_type": "code",
      "metadata": {
        "id": "4qh91CLHMP9K"
      },
      "source": [
        "from imblearn.over_sampling import SMOTE\n",
        "from sklearn.model_selection import train_test_split, RandomizedSearchCV\n",
        "\n",
        "\n",
        "print('Length of X (train): {} | Length of y (train): {}'.format(len(original_Xtrain), len(original_ytrain)))\n",
        "print('Length of X (test): {} | Length of y (test): {}'.format(len(original_Xtest), len(original_ytest)))\n",
        "\n",
        "# List to append the score and then find the average\n",
        "accuracy_lst = []\n",
        "precision_lst = []\n",
        "recall_lst = []\n",
        "f1_lst = []\n",
        "auc_lst = []\n",
        "\n",
        "# Classifier with optimal parameters\n",
        "# log_reg_sm = grid_log_reg.best_estimator_\n",
        "log_reg_sm = LogisticRegression()\n",
        "\n",
        "\n",
        "\n",
        "\n",
        "rand_log_reg = RandomizedSearchCV(LogisticRegression(), log_reg_params, n_iter=4)\n",
        "\n",
        "\n",
        "# Implementing SMOTE Technique \n",
        "# Cross Validating the right way\n",
        "# Parameters\n",
        "log_reg_params = {\"penalty\": ['l1', 'l2'], 'C': [0.001, 0.01, 0.1, 1, 10, 100, 1000]}\n",
        "for train, test in sss.split(original_Xtrain, original_ytrain):\n",
        "    pipeline = imbalanced_make_pipeline(SMOTE(sampling_strategy='minority'), rand_log_reg) # SMOTE happens during Cross Validation not before..\n",
        "    model = pipeline.fit(original_Xtrain[train], original_ytrain[train])\n",
        "    best_est = rand_log_reg.best_estimator_\n",
        "    prediction = best_est.predict(original_Xtrain[test])\n",
        "    \n",
        "    accuracy_lst.append(pipeline.score(original_Xtrain[test], original_ytrain[test]))\n",
        "    precision_lst.append(precision_score(original_ytrain[test], prediction))\n",
        "    recall_lst.append(recall_score(original_ytrain[test], prediction))\n",
        "    f1_lst.append(f1_score(original_ytrain[test], prediction))\n",
        "    auc_lst.append(roc_auc_score(original_ytrain[test], prediction))\n",
        "    \n",
        "print('---' * 45)\n",
        "print('')\n",
        "print(\"accuracy: {}\".format(np.mean(accuracy_lst)))\n",
        "print(\"precision: {}\".format(np.mean(precision_lst)))\n",
        "print(\"recall: {}\".format(np.mean(recall_lst)))\n",
        "print(\"f1: {}\".format(np.mean(f1_lst)))\n",
        "print('---' * 45)"
      ],
      "execution_count": null,
      "outputs": []
    },
    {
      "cell_type": "code",
      "metadata": {
        "id": "MtqDSqcbMZUp"
      },
      "source": [
        "labels = ['No Fraud', 'Fraud']\n",
        "smote_prediction = best_est.predict(original_Xtest)\n",
        "print(classification_report(original_ytest, smote_prediction, target_names=labels))"
      ],
      "execution_count": null,
      "outputs": []
    },
    {
      "cell_type": "code",
      "metadata": {
        "id": "tp7G8ydsMcZB"
      },
      "source": [
        "y_score = best_est.decision_function(original_Xtest)"
      ],
      "execution_count": null,
      "outputs": []
    },
    {
      "cell_type": "code",
      "metadata": {
        "id": "54yIAyppMe4-"
      },
      "source": [
        "average_precision = average_precision_score(original_ytest, y_score)\n",
        "\n",
        "print('Average precision-recall score: {0:0.2f}'.format(\n",
        "      average_precision))"
      ],
      "execution_count": null,
      "outputs": []
    },
    {
      "cell_type": "code",
      "metadata": {
        "id": "EL2g-4oGRK3B"
      },
      "source": [
        "fig = plt.figure(figsize=(12,6))\n",
        "\n",
        "precision, recall, _ = precision_recall_curve(original_ytest, y_score)\n",
        "\n",
        "plt.step(recall, precision, color='r', alpha=0.2,\n",
        "         where='post')\n",
        "plt.fill_between(recall, precision, step='post', alpha=0.2,\n",
        "                 color='#F59B00')\n",
        "\n",
        "plt.xlabel('Recall')\n",
        "plt.ylabel('Precision')\n",
        "plt.ylim([0.0, 1.05])\n",
        "plt.xlim([0.0, 1.0])\n",
        "plt.title('OverSampling Precision-Recall curve: \\n Average Precision-Recall Score ={0:0.2f}'.format(\n",
        "          average_precision), fontsize=16)"
      ],
      "execution_count": null,
      "outputs": []
    },
    {
      "cell_type": "code",
      "metadata": {
        "id": "HjwUmg-yRP8Y"
      },
      "source": [
        "# SMOTE Technique (OverSampling) After splitting and Cross Validating\n",
        "sm = SMOTE(ratio='minority', random_state=42)\n",
        "# Xsm_train, ysm_train = sm.fit_sample(X_train, y_train)\n",
        "\n",
        "\n",
        "# This will be the data were we are going to \n",
        "Xsm_train, ysm_train = sm.fit_sample(original_Xtrain, original_ytrain)"
      ],
      "execution_count": null,
      "outputs": []
    },
    {
      "cell_type": "code",
      "metadata": {
        "id": "0sk73oQZRUVU"
      },
      "source": [
        "# We Improve the score by 2% points approximately \n",
        "# Implement GridSearchCV and the other models.\n",
        "\n",
        "# Logistic Regression\n",
        "t0 = time.time()\n",
        "log_reg_sm = grid_log_reg.best_estimator_\n",
        "log_reg_sm.fit(Xsm_train, ysm_train)\n",
        "t1 = time.time()\n",
        "print(\"Fitting oversample data took :{} sec\".format(t1 - t0))"
      ],
      "execution_count": null,
      "outputs": []
    },
    {
      "cell_type": "code",
      "metadata": {
        "id": "0ac5E3g6RcFj"
      },
      "source": [
        "\n",
        "# Logistic Regression fitted using SMOTE technique\n",
        "y_pred_log_reg = log_reg_sm.predict(X_test)\n",
        "\n",
        "# Other models fitted with UnderSampling\n",
        "y_pred_knear = knears_neighbors.predict(X_test)\n",
        "y_pred_svc = svc.predict(X_test)\n",
        "y_pred_tree = tree_clf.predict(X_test)\n",
        "\n",
        "\n",
        "log_reg_cf = confusion_matrix(y_test, y_pred_log_reg)\n",
        "kneighbors_cf = confusion_matrix(y_test, y_pred_knear)\n",
        "svc_cf = confusion_matrix(y_test, y_pred_svc)\n",
        "tree_cf = confusion_matrix(y_test, y_pred_tree)\n",
        "\n",
        "fig, ax = plt.subplots(2, 2,figsize=(22,12))\n",
        "\n",
        "\n",
        "sns.heatmap(log_reg_cf, ax=ax[0][0], annot=True, cmap=plt.cm.copper)\n",
        "ax[0, 0].set_title(\"Logistic Regression \\n Confusion Matrix\", fontsize=14)\n",
        "ax[0, 0].set_xticklabels(['', ''], fontsize=14, rotation=90)\n",
        "ax[0, 0].set_yticklabels(['', ''], fontsize=14, rotation=360)\n",
        "\n",
        "sns.heatmap(kneighbors_cf, ax=ax[0][1], annot=True, cmap=plt.cm.copper)\n",
        "ax[0][1].set_title(\"KNearsNeighbors \\n Confusion Matrix\", fontsize=14)\n",
        "ax[0][1].set_xticklabels(['', ''], fontsize=14, rotation=90)\n",
        "ax[0][1].set_yticklabels(['', ''], fontsize=14, rotation=360)\n",
        "\n",
        "sns.heatmap(svc_cf, ax=ax[1][0], annot=True, cmap=plt.cm.copper)\n",
        "ax[1][0].set_title(\"Suppor Vector Classifier \\n Confusion Matrix\", fontsize=14)\n",
        "ax[1][0].set_xticklabels(['', ''], fontsize=14, rotation=90)\n",
        "ax[1][0].set_yticklabels(['', ''], fontsize=14, rotation=360)\n",
        "\n",
        "sns.heatmap(tree_cf, ax=ax[1][1], annot=True, cmap=plt.cm.copper)\n",
        "ax[1][1].set_title(\"DecisionTree Classifier \\n Confusion Matrix\", fontsize=14)\n",
        "ax[1][1].set_xticklabels(['', ''], fontsize=14, rotation=90)\n",
        "ax[1][1].set_yticklabels(['', ''], fontsize=14, rotation=360)\n",
        "\n",
        "\n",
        "plt.show()"
      ],
      "execution_count": null,
      "outputs": []
    },
    {
      "cell_type": "code",
      "metadata": {
        "id": "u39NSMX_RnNq"
      },
      "source": [
        "from sklearn.metrics import classification_report\n",
        "\n",
        "\n",
        "print('Logistic Regression:')\n",
        "print(classification_report(y_test, y_pred_log_reg))\n",
        "\n",
        "print('KNears Neighbors:')\n",
        "print(classification_report(y_test, y_pred_knear))\n",
        "\n",
        "print('Support Vector Classifier:')\n",
        "print(classification_report(y_test, y_pred_svc))\n",
        "\n",
        "print('Support Vector Classifier:')\n",
        "print(classification_report(y_test, y_pred_tree))"
      ],
      "execution_count": null,
      "outputs": []
    },
    {
      "cell_type": "code",
      "metadata": {
        "id": "mZmSHRM1RucM"
      },
      "source": [
        "# Final Score in the test set of logistic regression\n",
        "from sklearn.metrics import accuracy_score\n",
        "\n",
        "# Logistic Regression with Under-Sampling\n",
        "y_pred = log_reg.predict(X_test)\n",
        "undersample_score = accuracy_score(y_test, y_pred)\n",
        "\n",
        "\n",
        "\n",
        "# Logistic Regression with SMOTE Technique (Better accuracy with SMOTE t)\n",
        "y_pred_sm = best_est.predict(original_Xtest)\n",
        "oversample_score = accuracy_score(original_ytest, y_pred_sm)\n",
        "\n",
        "\n",
        "d = {'Technique': ['Random UnderSampling', 'Oversampling (SMOTE)'], 'Score': [undersample_score, oversample_score]}\n",
        "final_df = pd.DataFrame(data=d)\n",
        "\n",
        "# Move column\n",
        "score = final_df['Score']\n",
        "final_df.drop('Score', axis=1, inplace=True)\n",
        "final_df.insert(1, 'Score', score)\n",
        "\n",
        "# Note how high is accuracy score it can be misleading! \n",
        "final_df\n"
      ],
      "execution_count": null,
      "outputs": []
    }
  ]
}